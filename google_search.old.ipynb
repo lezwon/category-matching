{
 "cells": [
  {
   "cell_type": "code",
   "execution_count": 1,
   "metadata": {},
   "outputs": [],
   "source": [
    "#TODO\n",
    "# reduce searching time\n",
    "# save all query desc in json"
   ]
  },
  {
   "cell_type": "code",
   "execution_count": 2,
   "metadata": {},
   "outputs": [],
   "source": [
    "from google import google\n",
    "from concurrent.futures import ThreadPoolExecutor\n",
    "import csv\n",
    "import json\n",
    "from multiprocessing import Pool\n",
    "from sortedcontainers import SortedSet"
   ]
  },
  {
   "cell_type": "code",
   "execution_count": 1,
   "metadata": {},
   "outputs": [],
   "source": [
    "from helpers import get_close_matches"
   ]
  },
  {
   "cell_type": "code",
   "execution_count": 2,
   "metadata": {},
   "outputs": [
    {
     "data": {
      "text/plain": [
       "([], [])"
      ]
     },
     "execution_count": 2,
     "metadata": {},
     "output_type": "execute_result"
    }
   ],
   "source": [
    "get_close_matches([\"hello\"], [\"wordl\"])"
   ]
  },
  {
   "cell_type": "code",
   "execution_count": 3,
   "metadata": {},
   "outputs": [],
   "source": [
    "def get_data(filepath):\n",
    "    with open(filepath, \"r\") as file:\n",
    "        return SortedSet(file.read().splitlines())"
   ]
  },
  {
   "cell_type": "code",
   "execution_count": 4,
   "metadata": {},
   "outputs": [],
   "source": [
    "json_filename = \"dataset-partner.json\""
   ]
  },
  {
   "cell_type": "code",
   "execution_count": 5,
   "metadata": {},
   "outputs": [],
   "source": [
    "# csv_filename = \"dataset.csv\"\n",
    "# fieldnames= [\"category\", \"description\"]\n",
    "# csv_file = open(csv_filename, \"w\")\n",
    "# writer = csv.DictWriter(csv_file, lineterminator='\\n', fieldnames = fieldnames)\n",
    "# writer.writeheader()"
   ]
  },
  {
   "cell_type": "code",
   "execution_count": 9,
   "metadata": {},
   "outputs": [],
   "source": [
    "# google_categories = get_data(\"data/google_us_categories.txt\")\n",
    "partner_categories_1 = get_data(\"data/partner_categories_1.txt\")\n",
    "partner_categories_2 = get_data(\"data/partner_categories_2.txt\")\n",
    "partner_categories_3 = get_data(\"data/partner_categories_3.txt\")"
   ]
  },
  {
   "cell_type": "code",
   "execution_count": 10,
   "metadata": {},
   "outputs": [
    {
     "data": {
      "text/plain": [
       "3930"
      ]
     },
     "execution_count": 10,
     "metadata": {},
     "output_type": "execute_result"
    }
   ],
   "source": [
    "len(google_categories)"
   ]
  },
  {
   "cell_type": "code",
   "execution_count": 11,
   "metadata": {},
   "outputs": [],
   "source": [
    "pc_1 = SortedSet(partner_categories_1)\n",
    "pc_2 = SortedSet(partner_categories_2)\n",
    "pc_3 = SortedSet(partner_categories_3)"
   ]
  },
  {
   "cell_type": "code",
   "execution_count": 12,
   "metadata": {},
   "outputs": [],
   "source": [
    "partner_categories = pc_1.union(pc_2, pc_3)"
   ]
  },
  {
   "cell_type": "code",
   "execution_count": 13,
   "metadata": {},
   "outputs": [
    {
     "data": {
      "text/plain": [
       "13586"
      ]
     },
     "execution_count": 13,
     "metadata": {},
     "output_type": "execute_result"
    }
   ],
   "source": [
    "len(partner_categories)"
   ]
  },
  {
   "cell_type": "code",
   "execution_count": 14,
   "metadata": {},
   "outputs": [],
   "source": [
    "batch_size = 64\n",
    "dataset = []\n",
    "executor = ThreadPoolExecutor(max_workers=20)"
   ]
  },
  {
   "cell_type": "code",
   "execution_count": 15,
   "metadata": {},
   "outputs": [],
   "source": [
    "def store_on_disk(future):\n",
    "    category, results = future.result()\n",
    "    \n",
    "    if not results: return\n",
    "    dataset.append({\n",
    "        'name': category, \n",
    "        'descriptions': [result.description for result in results]\n",
    "    })\n",
    "\n",
    "    if len(dataset) % 16 == 0:\n",
    "        with open(json_filename, \"w\") as json_file:\n",
    "            json.dump(dataset, json_file,indent=4)\n",
    "            print(\"################## STORED ##############\")"
   ]
  },
  {
   "cell_type": "code",
   "execution_count": 16,
   "metadata": {},
   "outputs": [],
   "source": [
    "def store_on_disk_csv(future):\n",
    "    category, results = future.result()\n",
    "    \n",
    "    if not results: return\n",
    "    \n",
    "    wikipedia = False\n",
    "    for result in results :\n",
    "        if result.link and 'wikipedia' in result.link:\n",
    "            wikipedia = True\n",
    "            dataset.append({\n",
    "                'category': category, \n",
    "                'descriptions': result.description.encode(\"utf-8\")\n",
    "            })\n",
    "            break\n",
    "    if not wikipedia:\n",
    "        dataset.append({'category': category, 'description': results[0].description.encode(\"utf-8\")})\n",
    "        \n",
    "    if len(dataset) > 16:\n",
    "        print(\"++++++++++  Writing to file  ++++++++++++\")\n",
    "        writer.writerows(dataset[:16])\n",
    "        del dataset[:16]"
   ]
  },
  {
   "cell_type": "code",
   "execution_count": 17,
   "metadata": {},
   "outputs": [],
   "source": [
    "def search(index, category):\n",
    "    print(\"{}: {}\".format(index,category))\n",
    "    return category, google.search(category)"
   ]
  },
  {
   "cell_type": "code",
   "execution_count": null,
   "metadata": {},
   "outputs": [],
   "source": [
    "for index, category in enumerate(partner_categories):\n",
    "    future = executor.submit(search, index, category)\n",
    "    future.add_done_callback(store_on_disk)\n",
    "#     response = search(index, category)\n",
    "#     store_on_disk(response)"
   ]
  },
  {
   "cell_type": "code",
   "execution_count": 20,
   "metadata": {},
   "outputs": [
    {
     "name": "stdout",
     "output_type": "stream",
     "text": [
      "################## STORED ##############\n"
     ]
    }
   ],
   "source": [
    "with open(json_filename, \"w\") as json_file:\n",
    "    json.dump(dataset, json_file,indent=4)\n",
    "    print(\"################## STORED ##############\")"
   ]
  },
  {
   "cell_type": "code",
   "execution_count": null,
   "metadata": {},
   "outputs": [],
   "source": [
    "# with Pool(10) as pool:\n",
    "#     pool.map(search, google_categories)"
   ]
  },
  {
   "cell_type": "code",
   "execution_count": null,
   "metadata": {},
   "outputs": [],
   "source": [
    "csv_file.close()\n",
    "json_file.close()"
   ]
  },
  {
   "cell_type": "code",
   "execution_count": null,
   "metadata": {},
   "outputs": [],
   "source": [
    "search_results"
   ]
  },
  {
   "cell_type": "code",
   "execution_count": 19,
   "metadata": {},
   "outputs": [
    {
     "data": {
      "text/plain": [
       "13574"
      ]
     },
     "execution_count": 19,
     "metadata": {},
     "output_type": "execute_result"
    }
   ],
   "source": [
    "len(dataset)"
   ]
  },
  {
   "cell_type": "code",
   "execution_count": 58,
   "metadata": {},
   "outputs": [
    {
     "data": {
      "text/plain": [
       "5454"
      ]
     },
     "execution_count": 58,
     "metadata": {},
     "output_type": "execute_result"
    }
   ],
   "source": [
    "len(dataset)"
   ]
  },
  {
   "cell_type": "code",
   "execution_count": 21,
   "metadata": {},
   "outputs": [],
   "source": [
    "present_categories = SortedSet([ result['name'] for result in dataset ])"
   ]
  },
  {
   "cell_type": "code",
   "execution_count": null,
   "metadata": {},
   "outputs": [],
   "source": [
    "len(present_categoprie)"
   ]
  },
  {
   "cell_type": "code",
   "execution_count": 53,
   "metadata": {},
   "outputs": [],
   "source": [
    "difference = mega_set.difference(present_categories)"
   ]
  },
  {
   "cell_type": "code",
   "execution_count": 56,
   "metadata": {},
   "outputs": [
    {
     "data": {
      "text/plain": [
       "5454"
      ]
     },
     "execution_count": 56,
     "metadata": {},
     "output_type": "execute_result"
    }
   ],
   "source": [
    "len(mega_set)"
   ]
  },
  {
   "cell_type": "code",
   "execution_count": 59,
   "metadata": {},
   "outputs": [],
   "source": [
    " with open(json_filename, \"w\") as json_file:\n",
    "    json.dump(dataset, json_file,indent=4)"
   ]
  },
  {
   "cell_type": "code",
   "execution_count": 32,
   "metadata": {},
   "outputs": [],
   "source": [
    "au_categories = get_data(\"data/google_au_categories.txt\")\n",
    "ca_categories = get_data(\"data/google_ca_categories.txt\")\n",
    "gb_categories = get_data(\"data/google_gb_categories.txt\")\n",
    "in_categories = get_data(\"data/google_in_categories.txt\")\n",
    "nz_categories = get_data(\"data/google_nz_categories.txt\")\n",
    "us_categories = get_data(\"data/google_us_categories.txt\")"
   ]
  },
  {
   "cell_type": "code",
   "execution_count": 60,
   "metadata": {},
   "outputs": [],
   "source": [
    " mega_set = SortedSet().union(au_categories, ca_categories, gb_categories, in_categories, nz_categories, us_categories)"
   ]
  },
  {
   "cell_type": "code",
   "execution_count": 61,
   "metadata": {},
   "outputs": [
    {
     "data": {
      "text/plain": [
       "5454"
      ]
     },
     "execution_count": 61,
     "metadata": {},
     "output_type": "execute_result"
    }
   ],
   "source": [
    "len(mega_set)"
   ]
  },
  {
   "cell_type": "code",
   "execution_count": 41,
   "metadata": {},
   "outputs": [],
   "source": [
    "difference = mega_set.difference(us_categories)"
   ]
  },
  {
   "cell_type": "code",
   "execution_count": 42,
   "metadata": {},
   "outputs": [
    {
     "data": {
      "text/plain": [
       "1524"
      ]
     },
     "execution_count": 42,
     "metadata": {},
     "output_type": "execute_result"
    }
   ],
   "source": [
    "len(difference)"
   ]
  },
  {
   "cell_type": "code",
   "execution_count": 51,
   "metadata": {},
   "outputs": [
    {
     "data": {
      "text/plain": [
       "1"
      ]
     },
     "execution_count": 51,
     "metadata": {},
     "output_type": "execute_result"
    }
   ],
   "source": [
    "len(difference)"
   ]
  },
  {
   "cell_type": "code",
   "execution_count": 43,
   "metadata": {},
   "outputs": [
    {
     "data": {
      "text/plain": [
       "['AFL Football Club',\n",
       " 'Aboriginal & Torres Strait Islander Organisation',\n",
       " 'Abortion clinic',\n",
       " 'Absorbent Supplier',\n",
       " 'Academy',\n",
       " 'Accounting Software Provider',\n",
       " 'Acrylic Dealer',\n",
       " 'Acrylic Shop',\n",
       " 'Addiction Rehabilitation Centre',\n",
       " 'Adhesives & Glue Supplier',\n",
       " 'Adult DVD Shop',\n",
       " 'Adult Day Care Centre',\n",
       " 'Adult education centre',\n",
       " 'Adventure Sports Centre',\n",
       " 'Advertising Photographer',\n",
       " 'Aero Club',\n",
       " 'Aerobics Class',\n",
       " 'Aeroplane',\n",
       " 'Afghani restaurant',\n",
       " 'African Goods Shop']"
      ]
     },
     "execution_count": 43,
     "metadata": {},
     "output_type": "execute_result"
    }
   ],
   "source": [
    "difference[:20]"
   ]
  },
  {
   "cell_type": "code",
   "execution_count": null,
   "metadata": {},
   "outputs": [],
   "source": []
  }
 ],
 "metadata": {
  "kernelspec": {
   "display_name": "Python 3",
   "language": "python",
   "name": "python3"
  },
  "language_info": {
   "codemirror_mode": {
    "name": "ipython",
    "version": 3
   },
   "file_extension": ".py",
   "mimetype": "text/x-python",
   "name": "python",
   "nbconvert_exporter": "python",
   "pygments_lexer": "ipython3",
   "version": "3.5.2"
  }
 },
 "nbformat": 4,
 "nbformat_minor": 2
}
