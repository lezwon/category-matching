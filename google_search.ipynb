{
 "cells": [
  {
   "cell_type": "code",
   "execution_count": 1,
   "metadata": {},
   "outputs": [],
   "source": [
    "import sys\n",
    "import csv"
   ]
  },
  {
   "cell_type": "code",
   "execution_count": 2,
   "metadata": {},
   "outputs": [],
   "source": [
    "from helpers import *\n",
    "import difflib"
   ]
  },
  {
   "cell_type": "code",
   "execution_count": 3,
   "metadata": {},
   "outputs": [],
   "source": [
    "from google import google\n",
    "from concurrent.futures import ThreadPoolExecutor\n",
    "import csv\n",
    "import json\n",
    "from multiprocessing import Pool\n",
    "from sortedcontainers import SortedSet"
   ]
  },
  {
   "cell_type": "code",
   "execution_count": 4,
   "metadata": {},
   "outputs": [],
   "source": [
    "from urllib.request import urlopen\n",
    "from  urllib.parse import quote_plus\n",
    "import json\n",
    "import re"
   ]
  },
  {
   "cell_type": "code",
   "execution_count": 5,
   "metadata": {},
   "outputs": [],
   "source": [
    "from tornado_fetcher import Fetcher\n",
    "from bs4 import BeautifulSoup"
   ]
  },
  {
   "cell_type": "code",
   "execution_count": 6,
   "metadata": {},
   "outputs": [],
   "source": [
    "from google import google\n",
    "from concurrent.futures import ThreadPoolExecutor\n",
    "import requests\n",
    "import pandas as pd"
   ]
  },
  {
   "cell_type": "code",
   "execution_count": 7,
   "metadata": {},
   "outputs": [],
   "source": [
    "import os\n",
    "import time"
   ]
  },
  {
   "cell_type": "code",
   "execution_count": 8,
   "metadata": {},
   "outputs": [],
   "source": [
    "from importlib import reload\n",
    "import helpers"
   ]
  },
  {
   "cell_type": "code",
   "execution_count": 9,
   "metadata": {},
   "outputs": [
    {
     "data": {
      "text/plain": [
       "'3.6.5 |Anaconda custom (64-bit)| (default, Apr 26 2018, 08:42:37) \\n[GCC 4.2.1 Compatible Clang 4.0.1 (tags/RELEASE_401/final)]'"
      ]
     },
     "execution_count": 9,
     "metadata": {},
     "output_type": "execute_result"
    }
   ],
   "source": [
    "sys.version"
   ]
  },
  {
   "cell_type": "code",
   "execution_count": null,
   "metadata": {},
   "outputs": [],
   "source": [
    "csv_filename = \"result.csv\""
   ]
  },
  {
   "cell_type": "code",
   "execution_count": null,
   "metadata": {},
   "outputs": [],
   "source": [
    "# cities = get_random_cities(3)\n",
    "cities = ['', 'Sydney, Australia', 'Toronto, Canada', 'London, England', 'Bengaluru, India', 'Auckland, New Zealand', 'Florida, United States']"
   ]
  },
  {
   "cell_type": "code",
   "execution_count": 13,
   "metadata": {},
   "outputs": [],
   "source": [
    "au_categories = get_data(\"data/google_au_categories.txt\")\n",
    "ca_categories = get_data(\"data/google_ca_categories.txt\")\n",
    "gb_categories = get_data(\"data/google_gb_categories.txt\")\n",
    "in_categories = get_data(\"data/google_in_categories.txt\")\n",
    "nz_categories = get_data(\"data/google_nz_categories.txt\")\n",
    "us_categories = get_data(\"data/google_us_categories.txt\")"
   ]
  },
  {
   "cell_type": "code",
   "execution_count": null,
   "metadata": {},
   "outputs": [],
   "source": [
    "partner_categories_1 = get_data(\"data/partner_categories_1.txt\")\n",
    "partner_categories_2 = get_data(\"data/partner_categories_2.txt\")\n",
    "partner_categories_3 = get_data(\"data/partner_categories_3.txt\")"
   ]
  },
  {
   "cell_type": "code",
   "execution_count": null,
   "metadata": {},
   "outputs": [],
   "source": [
    "megaset = SortedSet().union(au_categories, ca_categories, gb_categories, in_categories, nz_categories, us_categories)"
   ]
  },
  {
   "cell_type": "code",
   "execution_count": null,
   "metadata": {},
   "outputs": [],
   "source": [
    "common_categories = megaset.intersection(partner_categories_1)"
   ]
  },
  {
   "cell_type": "code",
   "execution_count": null,
   "metadata": {},
   "outputs": [],
   "source": [
    "# clear_csv()"
   ]
  },
  {
   "cell_type": "code",
   "execution_count": null,
   "metadata": {},
   "outputs": [],
   "source": [
    "# write_result(common_categories, common_categories)"
   ]
  },
  {
   "cell_type": "code",
   "execution_count": null,
   "metadata": {},
   "outputs": [],
   "source": [
    "columns=['google_categories','partner_categories']"
   ]
  },
  {
   "cell_type": "code",
   "execution_count": null,
   "metadata": {},
   "outputs": [],
   "source": [
    "result = pd.DataFrame(columns=columns)"
   ]
  },
  {
   "cell_type": "code",
   "execution_count": null,
   "metadata": {},
   "outputs": [],
   "source": [
    "temp = pd.DataFrame(list(zip(common_categories, common_categories)), columns = columns)\n",
    "result = result.append(temp)"
   ]
  },
  {
   "cell_type": "code",
   "execution_count": null,
   "metadata": {},
   "outputs": [],
   "source": [
    "difference = megaset - common_categories"
   ]
  },
  {
   "cell_type": "code",
   "execution_count": null,
   "metadata": {},
   "outputs": [],
   "source": [
    "temp = get_close_matches(difference, partner_categories_1)"
   ]
  },
  {
   "cell_type": "code",
   "execution_count": null,
   "metadata": {},
   "outputs": [],
   "source": [
    "# write_result(google_matches, partner_matches)"
   ]
  },
  {
   "cell_type": "code",
   "execution_count": null,
   "metadata": {},
   "outputs": [],
   "source": [
    "result = result.append(temp)"
   ]
  },
  {
   "cell_type": "code",
   "execution_count": null,
   "metadata": {},
   "outputs": [],
   "source": [
    "difference -= SortedSet(temp.google_categories.tolist())"
   ]
  },
  {
   "cell_type": "code",
   "execution_count": null,
   "metadata": {},
   "outputs": [],
   "source": [
    "# temp = get_close_matches(difference, partner_categories_1, 0.94)"
   ]
  },
  {
   "cell_type": "code",
   "execution_count": null,
   "metadata": {},
   "outputs": [],
   "source": [
    "# difference -= SortedSet(temp[0].tolist())\n",
    "# result = result.append(temp)"
   ]
  },
  {
   "cell_type": "code",
   "execution_count": null,
   "metadata": {},
   "outputs": [],
   "source": [
    "# flattened_list = []\n",
    "# for matches in partner_matches:\n",
    "#     flattened_list += matches"
   ]
  },
  {
   "cell_type": "code",
   "execution_count": null,
   "metadata": {},
   "outputs": [],
   "source": [
    "url = \"https://www.google.com/search?tbm=lcl&q=abbey\""
   ]
  },
  {
   "cell_type": "code",
   "execution_count": null,
   "metadata": {},
   "outputs": [],
   "source": [
    "response = helpers.fetch_response(url)"
   ]
  },
  {
   "cell_type": "code",
   "execution_count": null,
   "metadata": {},
   "outputs": [],
   "source": [
    "from IPython.core.display import display, HTML"
   ]
  },
  {
   "cell_type": "code",
   "execution_count": 10,
   "metadata": {},
   "outputs": [],
   "source": [
    "import helpers"
   ]
  },
  {
   "cell_type": "code",
   "execution_count": 161,
   "metadata": {},
   "outputs": [
    {
     "data": {
      "text/plain": [
       "<module 'helpers' from '/Users/synup/Projects/category-matching/helpers.py'>"
      ]
     },
     "execution_count": 161,
     "metadata": {},
     "output_type": "execute_result"
    }
   ],
   "source": [
    "import importlib\n",
    "importlib.reload(helpers)"
   ]
  },
  {
   "cell_type": "code",
   "execution_count": 133,
   "metadata": {},
   "outputs": [],
   "source": [
    "url = 'https://www.google.com/search?tbm=lcl&q=accounting+school New Delhi India'"
   ]
  },
  {
   "cell_type": "code",
   "execution_count": null,
   "metadata": {},
   "outputs": [],
   "source": [
    "helpers.fetch_response(url)"
   ]
  },
  {
   "cell_type": "code",
   "execution_count": 135,
   "metadata": {},
   "outputs": [],
   "source": [
    "soup = BeautifulSoup(response, 'html.parser')"
   ]
  },
  {
   "cell_type": "code",
   "execution_count": null,
   "metadata": {},
   "outputs": [],
   "source": [
    "[element.get_text() for element in soup.select(\"div[role=heading]\")]"
   ]
  },
  {
   "cell_type": "code",
   "execution_count": 160,
   "metadata": {},
   "outputs": [
    {
     "name": "stdout",
     "output_type": "stream",
     "text": [
      "https://www.google.com/search?tbm=lcl&q=dance+club Sydney, Australia\n",
      "https://www.google.com/search?tbm=lcl&q=dance+club Toronto, Canada\n",
      "https://www.google.com/search?tbm=lcl&q=dance+club \n",
      "https://www.google.com/search?tbm=lcl&q=dance+club London, England\n",
      "https://www.google.com/search?tbm=lcl&q=dance+club Bengaluru, India\n",
      "https://www.google.com/search?tbm=lcl&q=dance+club Auckland, New Zealand\n",
      "https://www.google.com/search?tbm=lcl&q=dance+club Florida, United States\n"
     ]
    },
    {
     "data": {
      "text/plain": [
       "{'dance+club': [{'': [{'name': 'Indigo XP', 'category': 'night club'},\n",
       "    {'name': 'Nolimmits Lounge & Club', 'category': 'night club'},\n",
       "    {'name': 'TicTocket', 'category': 'disco club'},\n",
       "    {'name': 'Yougend', 'category': 'night club'},\n",
       "    {'name': 'Tilt Gastro Lounge', 'category': 'lounge'},\n",
       "    {'name': 'Gilly’s Resto Bar, Bangalore', 'category': 'bar'},\n",
       "    {'name': 'Iruttara - Room of darkness', 'category': 'night club'},\n",
       "    {'name': 'nznzn', 'category': 'night club'},\n",
       "    {'name': 'Area 666', 'category': 'night club'},\n",
       "    {'name': 'CLOUDNYN', 'category': 'night club'},\n",
       "    {'name': 'Anugraha', 'category': 'night club'},\n",
       "    {'name': 'The Sugar Factory', 'category': 'night club'},\n",
       "    {'name': 'Wolfmother911', 'category': 'night club'},\n",
       "    {'name': \"Mahi's Dance Club\", 'category': 'dance school'},\n",
       "    {'name': 'UNITED KOLAKKAD', 'category': 'night club'},\n",
       "    {'name': \"Rami's Dance Inc\", 'category': 'health club'},\n",
       "    {'name': 'Just chill', 'category': 'night club'},\n",
       "    {'name': 'B.cold Pan', 'category': 'night club'},\n",
       "    {'name': 'Room No: 110', 'category': 'night club'},\n",
       "    {'name': 'Chaandni Bar', 'category': 'dance club'}]},\n",
       "  {'Sydney, Australia': [{'name': 'Velvet Underground Sydney',\n",
       "     'category': 'adult entertainment club'},\n",
       "    {'name': 'Protech Commercial Kitchens',\n",
       "     'category': 'hospital equipment and supplies'},\n",
       "    {'name': 'Marquee Sydney', 'category': 'night club'},\n",
       "    {'name': 'MVP Nightclub', 'category': 'night club'},\n",
       "    {'name': 'S.A.S.H', 'category': 'night club'},\n",
       "    {'name': 'Retro', 'category': 'night club'},\n",
       "    {'name': 'The Sydney Hellfire Club', 'category': 'night club'},\n",
       "    {'name': 'Carmens Nightclub', 'category': 'night club'},\n",
       "    {'name': 'Chinese Laundry', 'category': 'night club'},\n",
       "    {'name': 'ARQ Sydney', 'category': 'gay night club'},\n",
       "    {'name': 'The Scary Canary', 'category': 'night club'},\n",
       "    {'name': 'Red Room Sydney', 'category': 'night club'},\n",
       "    {'name': 'Candelaria - Sydney', 'category': 'disco club'},\n",
       "    {'name': 'Encore', 'category': 'night club'},\n",
       "    {'name': 'Club Exile Sydney', 'category': 'night club'},\n",
       "    {'name': 'Club Grand Hit', 'category': 'night club'},\n",
       "    {'name': 'Palms On Oxford Nightclub', 'category': 'night club'},\n",
       "    {'name': 'Club Burwood', 'category': 'night club'},\n",
       "    {'name': 'SLYFOX', 'category': 'night club'},\n",
       "    {'name': 'City Dance Studio', 'category': 'night club'},\n",
       "    {'name': 'Space', 'category': 'night club'},\n",
       "    {'name': 'ivy precinct', 'category': 'bar'}]},\n",
       "  {'Toronto, Canada': [{'name': 'The Piston', 'category': 'night club'},\n",
       "    {'name': 'The Tall Ship Kajama', 'category': 'tourist attraction'},\n",
       "    {'name': 'Orchid Nightclub', 'category': 'night club'},\n",
       "    {'name': 'Cake Bar & Nightclub', 'category': 'night club'},\n",
       "    {'name': 'Cube', 'category': 'night club'},\n",
       "    {'name': 'Lost and Found', 'category': 'night club'},\n",
       "    {'name': 'Rebel', 'category': 'night club'},\n",
       "    {'name': 'Fly 2.0', 'category': 'disco club'},\n",
       "    {'name': 'El Convento Rico', 'category': 'night club'},\n",
       "    {'name': 'Moda Night Club', 'category': 'night club'},\n",
       "    {'name': 'Fiction', 'category': 'night club'},\n",
       "    {'name': 'Wildflower', 'category': 'night club'},\n",
       "    {'name': 'Ivy Social Club', 'category': 'night club'},\n",
       "    {'name': 'Luxy Club', 'category': 'night club'},\n",
       "    {'name': 'bar244', 'category': 'night club'},\n",
       "    {'name': 'Club Paradise', 'category': 'night club'},\n",
       "    {'name': 'Club120', 'category': 'night club'},\n",
       "    {'name': 'Cure', 'category': 'night club'},\n",
       "    {'name': 'EFS', 'category': 'night club'},\n",
       "    {'name': 'Prestige By Night', 'category': 'disco club'},\n",
       "    {'name': 'The X Club', 'category': 'night club'},\n",
       "    {'name': 'Everleigh', 'category': 'night club'}]},\n",
       "  {'London, England': [{'name': 'The Siegeris School of Dance',\n",
       "     'category': 'school'},\n",
       "    {'name': 'Empire Casino', 'category': 'casino'},\n",
       "    {'name': 'Montezuma London Club', 'category': 'disco club'},\n",
       "    {'name': 'The Lighthouse Bar and Club', 'category': 'night club'},\n",
       "    {'name': 'Exilio LGBTQ Latin Dance Club', 'category': 'gay night club'},\n",
       "    {'name': 'Heaven', 'category': 'gay night club'},\n",
       "    {'name': 'Ku Bar', 'category': 'gay night club'},\n",
       "    {'name': 'blagclub Kensington', 'category': 'night club'},\n",
       "    {'name': 'Stringfellows', 'category': 'adult entertainment club'},\n",
       "    {'name': 'Punk And Sheep', 'category': 'night club'},\n",
       "    {'name': 'FabricXX', 'category': 'night club'},\n",
       "    {'name': 'XOYO', 'category': 'night club'},\n",
       "    {'name': 'The Scotch of St James', 'category': 'night club'},\n",
       "    {'name': \"Platinum Lace | The Best Gentlemen's Club & Strip Club in London\",\n",
       "     'category': 'adult entertainment club'},\n",
       "    {'name': 'Ministry of Sound', 'category': 'night club'},\n",
       "    {'name': 'Rumba', 'category': 'night club'},\n",
       "    {'name': 'The Grand, Clapham', 'category': 'night club'},\n",
       "    {'name': 'Bootylicious London last Saturday of the month',\n",
       "     'category': 'night club'},\n",
       "    {'name': 'Nomad Club London', 'category': 'night club'},\n",
       "    {'name': 'Egg London Nightclub', 'category': 'night club'},\n",
       "    {'name': 'Tropicana Beach Club', 'category': 'night club'},\n",
       "    {'name': 'Rupert Street Bar', 'category': 'night club'}]},\n",
       "  {'Bengaluru, India': [{'name': 'The Pallet - Brewhouse & Kitchen',\n",
       "     'category': 'restaurant'},\n",
       "    {'name': \"Mahi's Dance Club\", 'category': 'dance school'},\n",
       "    {'name': \"Rami's Dance Inc\", 'category': 'health club'},\n",
       "    {'name': 'India Salsa Club', 'category': 'dance school'},\n",
       "    {'name': 'Life Club - Hobbies Classes in MG Road',\n",
       "     'category': 'dance school'},\n",
       "    {'name': 'Rhythmic Feet Koramangala Fitness| Zumba| Aerobics| Bollywood Dance| Kids Dance| Weight Loss',\n",
       "     'category': 'aero dance class'},\n",
       "    {'name': 'Ramis Dance Inc.', 'category': 'gym'},\n",
       "    {'name': 'Lshva', 'category': 'dance school'},\n",
       "    {'name': 'Palladium Dance Company Koramangala',\n",
       "     'category': 'dance company'},\n",
       "    {'name': 'The Swingers', 'category': 'dance school'},\n",
       "    {'name': 'Vamshi Fitness Zone - Vamshee Dance Group',\n",
       "     'category': 'health club'},\n",
       "    {'name': 'The swingers', 'category': 'dance school'},\n",
       "    {'name': 'Indigo XP', 'category': 'night club'},\n",
       "    {'name': 'Aero Fitness Koramangala Gym | Aerobics',\n",
       "     'category': 'health club'},\n",
       "    {'name': \"Sanjay's Dance Company\", 'category': 'dance school'},\n",
       "    {'name': 'Furor Entertainment', 'category': 'salsa dance class'},\n",
       "    {'name': 'Lights Camera Dance', 'category': 'dance company'},\n",
       "    {'name': 'Rashtrotthana Yogic Sciences & Research Institute',\n",
       "     'category': 'health club'},\n",
       "    {'name': 'Nolimmits Lounge & Club', 'category': 'night club'},\n",
       "    {'name': 'Glitterers Dance And Fitness Studio - The Gym',\n",
       "     'category': 'dance school'},\n",
       "    {'name': 'Hello Dance', 'category': 'dance school'}]},\n",
       "  {'Auckland, New Zealand': [{'name': 'Trilogy Bar and Eatery',\n",
       "     'category': 'bar'},\n",
       "    {'name': 'Spirit Of Adventure Trust', 'category': 'sailing event area'},\n",
       "    {'name': 'Face Club', 'category': 'night club'},\n",
       "    {'name': 'Bollywood Affair', 'category': 'night club'},\n",
       "    {'name': 'Bar 101 Auckland', 'category': 'night club'},\n",
       "    {'name': 'Impala', 'category': 'night club'},\n",
       "    {'name': 'Ink Bar', 'category': 'night club'},\n",
       "    {'name': 'CLUB KONG', 'category': 'night club'},\n",
       "    {'name': 'Jet Reload', 'category': 'night club'},\n",
       "    {'name': 'Studio The Venue', 'category': 'night club'},\n",
       "    {'name': 'Femme Fatale nz', 'category': 'night club'},\n",
       "    {'name': 'CLUB KONG', 'category': 'night club'},\n",
       "    {'name': 'Roxy', 'category': 'night club'},\n",
       "    {'name': '1885', 'category': 'bar'},\n",
       "    {'name': 'Galatos', 'category': 'night club'},\n",
       "    {'name': 'Le Box Ltd', 'category': 'night club'},\n",
       "    {'name': 'Strippers R Us', 'category': 'night club'},\n",
       "    {'name': 'Velvet On Cross', 'category': 'night club'},\n",
       "    {'name': 'Mt Eden Bowls Club', 'category': 'night club'},\n",
       "    {'name': 'Auckland Spanish Courses & Spanish Private lessons',\n",
       "     'category': 'dance school'},\n",
       "    {'name': 'Lenin', 'category': 'bar'},\n",
       "    {'name': 'Pinky Girls', 'category': 'night club'}]},\n",
       "  {'Florida, United States': [{'name': \"Mango's Tropical Cafe\",\n",
       "     'category': 'night club'},\n",
       "    {'name': \"Mango's Tropical Cafe\", 'category': 'night club'},\n",
       "    {'name': 'STORY Nightclub', 'category': 'night club'},\n",
       "    {'name': \"Spearmint RhinoGentlemen's Club West Palm Beach\",\n",
       "     'category': 'night club'},\n",
       "    {'name': 'The Manor Complex', 'category': 'night club'},\n",
       "    {'name': 'Club La Vela', 'category': 'night club'},\n",
       "    {'name': 'Trade', 'category': 'night club'},\n",
       "    {'name': 'E11EVEN MIAMI', 'category': 'night club'},\n",
       "    {'name': 'University Club', 'category': 'night club'},\n",
       "    {'name': 'The M Night Club', 'category': 'night club'},\n",
       "    {'name': 'LIV', 'category': 'night club'},\n",
       "    {'name': 'Basement Miami', 'category': 'night club'},\n",
       "    {'name': 'Tier Nightclub', 'category': 'night club'},\n",
       "    {'name': 'Hunters Nightclub Wilton Manors', 'category': 'gay night club'},\n",
       "    {'name': 'Club Boi @ District3 Nightclub & Liquors',\n",
       "     'category': 'night club'},\n",
       "    {'name': 'Rockwell Miami', 'category': 'night club'},\n",
       "    {'name': 'Treehouse', 'category': 'night club'},\n",
       "    {'name': 'Hoy Como Ayer', 'category': 'night club'},\n",
       "    {'name': 'Kanela Lounge', 'category': 'night club'},\n",
       "    {'name': 'The White House', 'category': 'night club'}]}]}"
      ]
     },
     "execution_count": 160,
     "metadata": {},
     "output_type": "execute_result"
    }
   ],
   "source": [
    "helpers.fetch_businesses('dance club')"
   ]
  },
  {
   "cell_type": "code",
   "execution_count": 159,
   "metadata": {},
   "outputs": [
    {
     "name": "stdout",
     "output_type": "stream",
     "text": [
      "https://www.google.com/search?tbm=lcl&q=school goa\n"
     ]
    },
    {
     "data": {
      "text/plain": [
       "{'goa': [{'name': 'Sharada Mandir School', 'category': 'school'},\n",
       "  {'name': \"The King's School\", 'category': 'school'},\n",
       "  {'name': 'Edify School', 'category': 'school'},\n",
       "  {'name': 'Paradise School Goa', 'category': 'school'},\n",
       "  {'name': 'Manovikas English Medium School', 'category': 'school'},\n",
       "  {'name': 'Sunshine Worldwide School', 'category': 'cbse school'},\n",
       "  {'name': 'Navy Children School', 'category': 'school'},\n",
       "  {'name': 'Mount Litera Zee School', 'category': 'school'},\n",
       "  {'name': 'Adarsh V.V. High School', 'category': 'school'},\n",
       "  {'name': 'Fatima Convent High School', 'category': 'school'},\n",
       "  {'name': 'Bloomz International School', 'category': 'international school'},\n",
       "  {'name': 'Don Bosco Higher Secondary School, Panjim',\n",
       "   'category': 'education center'},\n",
       "  {'name': \"St. Mary's Convent High School\", 'category': 'school'},\n",
       "  {'name': 'Loyola High School', 'category': \"boys' high school\"},\n",
       "  {'name': 'THE ARDEE SCHOOL (SENIOR)', 'category': 'school'},\n",
       "  {'name': 'St.Britto High School', 'category': 'high school'},\n",
       "  {'name': \"Nisha's Play School\", 'category': 'school'},\n",
       "  {'name': \"People's Higher Secondary School\", 'category': 'high school'},\n",
       "  {'name': 'Green Meadows School', 'category': 'school'},\n",
       "  {'name': 'Kendriya Vidyalaya, Bambolim Camp',\n",
       "   'category': 'government school'}]}"
      ]
     },
     "execution_count": 159,
     "metadata": {},
     "output_type": "execute_result"
    }
   ],
   "source": [
    "helpers.fetch_biz_for_city('school', 'goa')\n",
    "# helpers.fetch_biz_for_city('school', 'jaipur')\n",
    "# helpers.fetch_biz_for_city('school', 'andaman')"
   ]
  },
  {
   "cell_type": "code",
   "execution_count": 44,
   "metadata": {},
   "outputs": [],
   "source": [
    "args = [ ('school', city) for city in helpers.cities ]"
   ]
  },
  {
   "cell_type": "code",
   "execution_count": null,
   "metadata": {},
   "outputs": [],
   "source": [
    "pool = Pool()\n",
    "biz_list = []\n",
    "pool.starmap(helpers.fetch_biz_for_city, args)"
   ]
  },
  {
   "cell_type": "code",
   "execution_count": 14,
   "metadata": {},
   "outputs": [],
   "source": [
    "matches = au_categories[6:13]"
   ]
  },
  {
   "cell_type": "code",
   "execution_count": null,
   "metadata": {},
   "outputs": [],
   "source": [
    "fetch_response(url)"
   ]
  },
  {
   "cell_type": "code",
   "execution_count": 29,
   "metadata": {},
   "outputs": [],
   "source": [
    "Thread(target=fetch_response, args=(url,)).start()"
   ]
  },
  {
   "cell_type": "code",
   "execution_count": null,
   "metadata": {},
   "outputs": [],
   "source": [
    "urls = [\n",
    "    'https://www.google.com/search?tbm=lcl&q=accounting+school',\n",
    "    'https://www.google.com/search?tbm=lcl&q=accounting+school Sydney, Australia',\n",
    "    'https://www.google.com/search?tbm=lcl&q=accounting+school Toronto, Canada',\n",
    "    'https://www.google.com/search?tbm=lcl&q=accounting+school London, England',\n",
    "    'https://www.google.com/search?tbm=lcl&q=accounting+school Bengaluru, India',\n",
    "    'https://www.google.com/search?tbm=lcl&q=accounting+school Auckland, New Zealand',\n",
    "    'https://www.google.com/search?tbm=lcl&q=accounting+school Florida, United States',\n",
    "]\n",
    "for arg in args:\n",
    "    Thread(target=helpers.fetch_biz_for_city, args=arg).start()\n"
   ]
  },
  {
   "cell_type": "code",
   "execution_count": 145,
   "metadata": {},
   "outputs": [
    {
     "name": "stdout",
     "output_type": "stream",
     "text": [
      "https://www.google.com/search?tbm=lcl&q=academy Toronto, Canada\n",
      "https://www.google.com/search?tbm=lcl&q=academy Sydney, Australia\n",
      "https://www.google.com/search?tbm=lcl&q=academy \n",
      "https://www.google.com/search?tbm=lcl&q=academy London, England\n",
      "https://www.google.com/search?tbm=lcl&q=academy Bengaluru, India\n",
      "https://www.google.com/search?tbm=lcl&q=academy Auckland, New Zealand\n",
      "https://www.google.com/search?tbm=lcl&q=academy Florida, United States\n",
      "https://www.google.com/search?tbm=lcl&q=accountant \n",
      "https://www.google.com/search?tbm=lcl&q=accountant Sydney, Australia\n",
      "https://www.google.com/search?tbm=lcl&q=accountant Toronto, Canada\n",
      "https://www.google.com/search?tbm=lcl&q=accountant London, England\n",
      "https://www.google.com/search?tbm=lcl&q=accountant Bengaluru, India\n",
      "https://www.google.com/search?tbm=lcl&q=accountant Auckland, New Zealand\n",
      "https://www.google.com/search?tbm=lcl&q=accountant Florida, United States\n",
      "https://www.google.com/search?tbm=lcl&q=accounting+firm Sydney, Australia\n",
      "https://www.google.com/search?tbm=lcl&q=accounting+firm \n",
      "https://www.google.com/search?tbm=lcl&q=accounting+firm Toronto, Canada\n",
      "https://www.google.com/search?tbm=lcl&q=accounting+firm London, England\n",
      "https://www.google.com/search?tbm=lcl&q=accounting+firm Bengaluru, India\n",
      "https://www.google.com/search?tbm=lcl&q=accounting+firm Auckland, New Zealand\n",
      "https://www.google.com/search?tbm=lcl&q=accounting+firm Florida, United States\n",
      "https://www.google.com/search?tbm=lcl&q=accounting+school Toronto, Canada\n",
      "https://www.google.com/search?tbm=lcl&q=accounting+school \n",
      "https://www.google.com/search?tbm=lcl&q=accounting+school Sydney, Australia\n",
      "https://www.google.com/search?tbm=lcl&q=accounting+school London, England\n",
      "https://www.google.com/search?tbm=lcl&q=accounting+school Bengaluru, India\n",
      "https://www.google.com/search?tbm=lcl&q=accounting+school Auckland, New Zealand\n",
      "https://www.google.com/search?tbm=lcl&q=accounting+school Florida, United States\n",
      "https://www.google.com/search?tbm=lcl&q=accounting+software+company \n",
      "https://www.google.com/search?tbm=lcl&q=accounting+software+company Sydney, Australia\n",
      "https://www.google.com/search?tbm=lcl&q=accounting+software+company Toronto, Canada\n",
      "https://www.google.com/search?tbm=lcl&q=accounting+software+company London, England\n",
      "https://www.google.com/search?tbm=lcl&q=accounting+software+company Bengaluru, India\n",
      "https://www.google.com/search?tbm=lcl&q=accounting+software+company Auckland, New Zealand\n",
      "https://www.google.com/search?tbm=lcl&q=accounting+software+company Florida, United States\n",
      "https://www.google.com/search?tbm=lcl&q=acoustical+consultant Sydney, Australia\n",
      "https://www.google.com/search?tbm=lcl&q=acoustical+consultant \n",
      "https://www.google.com/search?tbm=lcl&q=acoustical+consultant Toronto, Canada\n",
      "https://www.google.com/search?tbm=lcl&q=acoustical+consultant London, England\n",
      "https://www.google.com/search?tbm=lcl&q=acoustical+consultant Bengaluru, India\n",
      "https://www.google.com/search?tbm=lcl&q=acoustical+consultant Auckland, New Zealand\n",
      "https://www.google.com/search?tbm=lcl&q=acoustical+consultant Florida, United States\n",
      "https://www.google.com/search?tbm=lcl&q=acrobatic+diving+pool Sydney, Australia\n",
      "https://www.google.com/search?tbm=lcl&q=acrobatic+diving+pool \n",
      "https://www.google.com/search?tbm=lcl&q=acrobatic+diving+pool Toronto, Canada\n",
      "https://www.google.com/search?tbm=lcl&q=acrobatic+diving+pool London, England\n",
      "https://www.google.com/search?tbm=lcl&q=acrobatic+diving+pool Bengaluru, India\n",
      "https://www.google.com/search?tbm=lcl&q=acrobatic+diving+pool Auckland, New Zealand\n",
      "https://www.google.com/search?tbm=lcl&q=acrobatic+diving+pool Florida, United States\n"
     ]
    },
    {
     "data": {
      "text/plain": [
       "[{'academy': [['WHITELINE International IELTS & OET Academy',\n",
       "    'ArivuPro Academy - CA, CS & ACCA Coaching in Koramangala, Bangalore',\n",
       "    'Step Up Academy',\n",
       "    'Study Partner Competitive Academy',\n",
       "    'ASPIRE ACADEMY BANGALORE',\n",
       "    'Manjoorans IELTS & OET Academy',\n",
       "    'Nathaniel Travels And Academy Pvt.Ltd',\n",
       "    'Rambus Network Academy',\n",
       "    'VK ACADEMY IT SOLUTIONS BANGALORE',\n",
       "    'NorthStar Academy',\n",
       "    \"Rau's IAS Study Circle® - Coaching Centre, Bangalore\",\n",
       "    'Good guide Education Academy',\n",
       "    'Spiceup Academy English and Japanese Language School',\n",
       "    'Bodycraft Academy',\n",
       "    'Bangalore Drums Academy',\n",
       "    'Smart Academy Tuitions',\n",
       "    'First Guide Academy',\n",
       "    'elpaso aviation and hospitality academy',\n",
       "    'ISAC Software Academy',\n",
       "    'Savi Vidya Dance Music Academy'],\n",
       "   ['Australian International High School',\n",
       "    'Australian Academy of Management & Science',\n",
       "    'AIT - Academy of Information Technology',\n",
       "    'Academy Xi',\n",
       "    'New York Film Academy',\n",
       "    'Australian International Academy- Strathfield Campus',\n",
       "    'Australian Academy of Commerce',\n",
       "    'Australian Academy',\n",
       "    'Style Academy Australia',\n",
       "    'The Sydney Business and Travel Academy and The Sydney English Language Academy',\n",
       "    'JMC Academy',\n",
       "    'Supreme Business College',\n",
       "    'The Academy Brand',\n",
       "    'Australian Academy of Beauty Therapy',\n",
       "    'Australian Academy of Fashion Design - Sydney',\n",
       "    'Australian International Academy',\n",
       "    'Academy of Film, Theatre & Television',\n",
       "    'Sydney Golf Academy',\n",
       "    'Academy of English',\n",
       "    'Australasian International Academy'],\n",
       "   ['Virtual Galaxies',\n",
       "    'Trontario Truck Driving School',\n",
       "    'Central Toronto Academy',\n",
       "    'Toronto Academy of Acting for Film and Television',\n",
       "    'Blyth Academy (Head Office & Admissions)',\n",
       "    'Canada Music Academy',\n",
       "    'McDonald International Academy',\n",
       "    'Academy of Learning, Toronto',\n",
       "    'Blyth Academy Yorkville',\n",
       "    'Alpha International Academy',\n",
       "    'Blyth Academy Lawrence Park',\n",
       "    'Waldorf Academy Toronto',\n",
       "    'Academy Of Canadian Cinema & Television',\n",
       "    'Wine Academy',\n",
       "    'Academy of Art Canada',\n",
       "    'Canada Music Academy Toronto Music School',\n",
       "    'Nile Academy',\n",
       "    'The Dragon Academy',\n",
       "    'Online Trading Academy Toronto',\n",
       "    'The YMCA Academy',\n",
       "    'Academy of Lions',\n",
       "    'Archery Academy of Canada'],\n",
       "   ['London Academy',\n",
       "    'Royal Academy of Dance',\n",
       "    'Paddington Academy',\n",
       "    'British Academy',\n",
       "    'LAMDA',\n",
       "    'London Waterloo Academy',\n",
       "    'London Film Academy',\n",
       "    'Hurlingham Academy',\n",
       "    'Docklands Academy, London',\n",
       "    'The King Fahad Academy',\n",
       "    'King Solomon Academy',\n",
       "    'Royal Academy of Dramatic Art',\n",
       "    'The Urdang Academy',\n",
       "    'Mountview',\n",
       "    'The Academy Hotel',\n",
       "    'American Musical Theatre Academy (AMTA) London',\n",
       "    'Ashmole Academy',\n",
       "    'ACM London, Academy of Contemporary Music',\n",
       "    'British American Drama Academy',\n",
       "    'Ark Walworth Academy'],\n",
       "   ['Indian Academy Education Trust',\n",
       "    \"Rau's IAS Study Circle® - Coaching Centre, Bangalore\",\n",
       "    'Party Map DJ Academy Bengaluru',\n",
       "    'Indian Combat Sports Academy',\n",
       "    'Indian Academy Degree College - Autonomous'],\n",
       "   ['Academy New Zealand',\n",
       "    'Academy New Zealand',\n",
       "    'KAURI ACADEMY New Zealand',\n",
       "    'Auckland Academy of Dance',\n",
       "    'Academy NZ - School of Floristry',\n",
       "    'EDENZ Colleges',\n",
       "    'Academy New Zealand International Campus',\n",
       "    'NZMA Auckland Trades Campus',\n",
       "    'NZ Career College',\n",
       "    'Cut Above Academy - Auckland City Campus',\n",
       "    'The University of Auckland English Language Academy',\n",
       "    'Kingston Institute of Business & Technology',\n",
       "    'Enspiral Dev Academy - Auckland Campus',\n",
       "    'Academy Cinemas',\n",
       "    'New Zealand Maritime School',\n",
       "    'NZMA Otahuhu Campus',\n",
       "    'The Career Academy',\n",
       "    'Auckland English Academy',\n",
       "    'NZ School Of Education',\n",
       "    'International College of Auckland'],\n",
       "   ['Montverde Academy',\n",
       "    'IMG Academy',\n",
       "    'The Academy - Fort Lauderdale Fl',\n",
       "    'IMG Academy',\n",
       "    'Admiral Farragut Academy',\n",
       "    'The Academy - Doral Campus',\n",
       "    \"Saint Andrew's School\",\n",
       "    'Florida Prep',\n",
       "    'Florida Flyers Flight Academy',\n",
       "    'The Academy - Miami Campus',\n",
       "    'Academy Sports + Outdoors',\n",
       "    'L3 Airline Academy',\n",
       "    'North Broward Preparatory School',\n",
       "    'Florida Aviation Academy',\n",
       "    'FlightSafety Academy',\n",
       "    'Aviator College',\n",
       "    'Wayman Aviation Academy',\n",
       "    'Pensacola Christian Academy',\n",
       "    'Palm Beach Maritime Academy',\n",
       "    'Pan Am International Flight Academy']]},\n",
       " {'accountant': [['KEN & Co. Chartered Accountants',\n",
       "    'VISHWANATH N VISHWAKARMA Chartered Accountants',\n",
       "    'D Kedia&associates',\n",
       "    'Salsabeel Ahmed & Co., Chartered Accountants',\n",
       "    'VAT Registration in Bangalore',\n",
       "    'Sanjay Mahavir Jain & Associates Chartered Accountants',\n",
       "    'Prathima Vankadaru Chartered Accountant',\n",
       "    'BSRS & ASSOCIATES CHARTERED ACCOUNTANTS',\n",
       "    'K.Raghu & Co.',\n",
       "    'KAPG AND ASSOCIATES Chartered Accountants',\n",
       "    'M Daga & Co. Chartered Accountants',\n",
       "    'OutForce Services India Pvt. Ltd.',\n",
       "    'TYA business solutions private limited',\n",
       "    'P.V. Menon & Associates',\n",
       "    'santosh ramanuj & co. chartered accountant',\n",
       "    'KOLATH AND CO',\n",
       "    'Muralidharan & Manogaran',\n",
       "    'Vasan & Sampath LLP',\n",
       "    'Chellur & Prasad, Chartered Accountants',\n",
       "    'TPMG & ASSOCIATES, Chartered Accountants'],\n",
       "   [\"Margaret's Nails\",\n",
       "    'BDO Australia - Sydney',\n",
       "    'Australian Accountants Chatswood Tax Agent Company Tax Return Medical Dental Accounting Sydney',\n",
       "    'City Tax Accountants Sydney',\n",
       "    'Azure Group PTY LTD',\n",
       "    'RSM',\n",
       "    'Quantum House Australia',\n",
       "    'Boroughs Australia Pty Ltd',\n",
       "    'Chartered Accountants ANZ',\n",
       "    'Bell Partners Accountants Advisors & Auditors',\n",
       "    'William Buck Sydney',\n",
       "    'Grant Thornton Australia Ltd',\n",
       "    'Tax Effective Accountants',\n",
       "    'ESV Accounting and Business Advisors',\n",
       "    'TaxAssist Accountants',\n",
       "    'Bedford CA - Chartered Accountants',\n",
       "    'Count Wealth Accountants',\n",
       "    'Nexia Australia',\n",
       "    'IFA Australia - Institute for Financial Analysts Australia',\n",
       "    'Sydney CBD India Australia Discussion Group',\n",
       "    'MGI Sydney'],\n",
       "   ['Hogg Shain & Scheck Professional Corporation',\n",
       "    'BTS Accounting & Tax Services ( Toronto)',\n",
       "    'Chartered Professional Accountants of Canada',\n",
       "    'SRJ Chartered Accountants',\n",
       "    'Stern Cohen Accountants',\n",
       "    'ConnectCPA, Chartered Accountants',\n",
       "    'BDO Canada LLP',\n",
       "    'Booth & Partners CPA Professional Corporation',\n",
       "    'BDO Canada LLP - Corporate',\n",
       "    'RSM Canada',\n",
       "    'Collins Barrow Toronto LLP',\n",
       "    'LiveCA LLP',\n",
       "    'John R. Mott, CPA, CA',\n",
       "    'Silver + Goren Chartered Professional Accountants',\n",
       "    'SRJ Chartered Accountants Mississauga',\n",
       "    'Crowe Soberman',\n",
       "    'FreshBooks Accounting Software',\n",
       "    'ACCA Association of Chartered Certified Accountants',\n",
       "    'Zeifmans',\n",
       "    'Serbinski Accounting Firms',\n",
       "    'Canadian Public Accountability Board',\n",
       "    'Sam Seidman, CA'],\n",
       "   ['Glazers Chartered Accountants',\n",
       "    'Warrener Stewart',\n",
       "    'Mercer & Hole',\n",
       "    'Carbon Accountancy',\n",
       "    'SRLV',\n",
       "    'ICAEW',\n",
       "    'B S G Valentine',\n",
       "    'Hillier Hopkins LLP',\n",
       "    'Blinkhorns',\n",
       "    'SPW (UK) LLP Chartered Accountants',\n",
       "    'RSM',\n",
       "    'Deloitte',\n",
       "    'Pearl Lily & Co Accountants (Royal Docks)',\n",
       "    'West London Accounting',\n",
       "    'Braant Accountants and Bookkeepers Hoxton',\n",
       "    'Reddy Siddiqui',\n",
       "    'Apt Accountants',\n",
       "    'Arram Berlyn Gardner Chartered Accountants',\n",
       "    'London Bookkeeping',\n",
       "    'Doshi & Company',\n",
       "    'Cantelowes',\n",
       "    'P & Co'],\n",
       "   ['Escape Room Kormangala',\n",
       "    'IIFCA Institute of Finance and Computer Accounting',\n",
       "    'ðŸŽ“ INSTITUTE OF INTERNATIONAL ACCOUNTANTS ðŸ“– Job oriented Accounting Courses in Bangalore',\n",
       "    'VISHWANATH N VISHWAKARMA Chartered Accountants',\n",
       "    'KEN & Co. Chartered Accountants',\n",
       "    'TYA business solutions private limited',\n",
       "    'Balakrishna & Co Chartered Accountants',\n",
       "    'BlueSquare Management Consultants India Private Limited',\n",
       "    'Salsabeel Ahmed & Co., Chartered Accountants',\n",
       "    'VAT Registration in Bangalore',\n",
       "    'P.V. Menon & Associates',\n",
       "    'IVS & Associates',\n",
       "    'Prathima Vankadaru Chartered Accountant',\n",
       "    'Sanjay Mahavir Jain & Associates Chartered Accountants',\n",
       "    'CA MD IMRAN',\n",
       "    'M Daga & Co. Chartered Accountants',\n",
       "    'SETINDIABIZ',\n",
       "    'BSRS & ASSOCIATES CHARTERED ACCOUNTANTS',\n",
       "    'Manoj Kumar D & Associates - Chartered Accountants, Bangalore',\n",
       "    'CA | GST services in Bangalore - Teertha and Co',\n",
       "    'Sridhar & Brito Chartered Accountants'],\n",
       "   ['Stowers Butterworth Chartered Accountants',\n",
       "    'Nicoll Jackson',\n",
       "    'Alliott NZ Chartered Accountants',\n",
       "    'Sothertons Chartered Accountants',\n",
       "    'RSM New Zealand (Auckland)',\n",
       "    'Cockcroft Thomas Chartered Accountants',\n",
       "    'RightWay Auckland',\n",
       "    'RSM New Zealand (Auckland North)',\n",
       "    'Baker Tilly Staples Rodway',\n",
       "    'Moore Stephens Markhams Auckland',\n",
       "    'Grant Thornton New Zealand',\n",
       "    'Lowthers Chartered Accountants',\n",
       "    'William Buck New Zealand',\n",
       "    'GECA Chartered Accountants',\n",
       "    'Glenfield Tax Accountants',\n",
       "    'Hayes Knight Chartered Accountants',\n",
       "    'Bellingham Wallace Chartered Accountants',\n",
       "    'Business Buddy Chartered Accountants',\n",
       "    'CPA Australia',\n",
       "    'NZ Property Accountants Limited',\n",
       "    'Greenlane Chartered Accountants Limited',\n",
       "    'Wise Advice Accountants & Business Advisors'],\n",
       "   ['Florida Accounting & Advisers',\n",
       "    'Grant Thornton LLP',\n",
       "    'PricewaterhouseCoopers LLP',\n",
       "    'KPMG',\n",
       "    'PricewaterhouseCoopers LLP',\n",
       "    'Baumann Charles R Cpa - Kerkering Barberio & Co',\n",
       "    'PricewaterhouseCoopers',\n",
       "    'Grant Thornton LLP',\n",
       "    'RCG Accounting & Associates Inc',\n",
       "    'PricewaterhouseCoopers LLP',\n",
       "    'Pricewaterhouse Coopers',\n",
       "    'Florida Institute of CPAs – FICPA',\n",
       "    'Warren Averett',\n",
       "    'GGK360',\n",
       "    'Daszkal Bolton LLP',\n",
       "    'Sanders Holloway & Ryan: Hursey Holly CPA',\n",
       "    'Collier Family Office',\n",
       "    'Moats & Associates, CPAs',\n",
       "    'Crowe LLP',\n",
       "    'KramerWeisman and Associates, LLP']]},\n",
       " {'accounting+firm': [['Contrarian Consulting',\n",
       "    'BCL India - Balakrishna Consulting LLP',\n",
       "    'Balakrishna & Co Chartered Accountants',\n",
       "    'Koshamattam Finance',\n",
       "    'Tokyo Consulting firm Pvt. Ltd.',\n",
       "    'Anil DSouza & Associates - Chartered Accountants Firm in Bangalore',\n",
       "    'Vasan & Sampath LLP',\n",
       "    'Bookkeeping Outsourcing Firm',\n",
       "    'SOFT TECHNOLOGIES SOLUTION',\n",
       "    'Manappuram Finance',\n",
       "    'ASA & Associates LLP',\n",
       "    'V2 Corporate Advisors LLP',\n",
       "    'Balakrishna & Co Accounting Payroll Services',\n",
       "    'Sublime Financial Advisory',\n",
       "    'Arian Advisors Co.',\n",
       "    'BDO India LLP',\n",
       "    'Finacles Consulting Services | GST | Income Tax | Company Incorporation | MSME',\n",
       "    'Sri Bhairaveshwara Chit Fund Pvt. Ltd.',\n",
       "    'Dwarakamayee Accounting Associates',\n",
       "    'BSRS & ASSOCIATES CHARTERED ACCOUNTANTS',\n",
       "    'TYA business solutions private limited',\n",
       "    'Sultan & Lohith Chartered Accountants'],\n",
       "   ['Northern Beaches Accountants',\n",
       "    'IACR Partners Pty Ltd',\n",
       "    'Azure Group PTY LTD',\n",
       "    'City Tax Accountants Sydney',\n",
       "    'Nexia Australia',\n",
       "    'BDO Australia - Sydney',\n",
       "    'Pitcher Partners Sydney',\n",
       "    'Camphin Boston - Chartered Accountants',\n",
       "    'Australian Accountants Chatswood Tax Agent Company Tax Return Medical Dental Accounting Sydney',\n",
       "    'Charltons',\n",
       "    'Thomas Davis & Co',\n",
       "    'Brigden & Partners',\n",
       "    'Minett & Partners',\n",
       "    'The Quinn Group Accountants & Lawyers',\n",
       "    'Sothertons Chartered Accountants',\n",
       "    'Vincents',\n",
       "    'McGrathNicol',\n",
       "    'Emerson Randell Young',\n",
       "    'MKL Accounting Company Sydney',\n",
       "    'ShineWing Australia',\n",
       "    'Ausin Group Accounting Services',\n",
       "    'Elite Business Consultants, Accountants & Business Brokers'],\n",
       "   ['Hogg Shain & Scheck Professional Corporation',\n",
       "    'daneCPA Accounting',\n",
       "    'SRJ Chartered Accountants',\n",
       "    'BDO Canada LLP',\n",
       "    'BDO Canada LLP - Corporate',\n",
       "    'GOODMAN & ASSOCIATES LLP',\n",
       "    'BBS Accounting CPA',\n",
       "    'Serbinski Accounting Firms',\n",
       "    'GTA Accounting | Tax Accountant Toronto',\n",
       "    'Triple M Accounting Ltd.',\n",
       "    'Act Tax Accounting Firm',\n",
       "    'Booth & Partners CPA Professional Corporation',\n",
       "    'Adams & Miles LLP',\n",
       "    'SDG, Chartered Professional Accountant',\n",
       "    'Koster Spinks & Koster LLP',\n",
       "    'BDO Canada LLP',\n",
       "    'Blosser & Assoc',\n",
       "    'Teixeira Accounting Firm Inc.',\n",
       "    'Francis Kim & Company CPA PC',\n",
       "    'Welch LLP',\n",
       "    'Grant Thornton LLP',\n",
       "    'Fuller Landau LLP'],\n",
       "   ['Glazers Chartered Accountants',\n",
       "    'Melon Accountants',\n",
       "    '1Office UK',\n",
       "    'Warr & Co Chartered Accountants - London',\n",
       "    'Grant Thornton',\n",
       "    'WeAccountax - Tax & Accounting Services',\n",
       "    'Nexia International',\n",
       "    'Accounting Firms in Canary Wharf, Accountants in Canary Wharf, Chartered Accountants in Canary Wharf',\n",
       "    'Pebble Accounting | London | Small Business Accounting | Xero Accountants',\n",
       "    '2E Accountants Ltd',\n",
       "    'MI Accountants and Tax Advisers',\n",
       "    'Nordens Chartered Accountants',\n",
       "    'Braant Accountants and Bookkeepers City of London',\n",
       "    'Hardy & Company',\n",
       "    'AKJ ACCOUNTANTS',\n",
       "    'UHY Hacker Young (London)',\n",
       "    'JM Shah & Company',\n",
       "    'Goolbar Accounting Firm',\n",
       "    'BDO LLP',\n",
       "    'Alexander Scott Limited',\n",
       "    'Penn Accounts',\n",
       "    'Pearl Lily & Co Accountants (Kensington & Chelsea)'],\n",
       "   ['Escape Room Kormangala',\n",
       "    'BCL India - Balakrishna Consulting LLP',\n",
       "    'Balakrishna & Co Chartered Accountants',\n",
       "    'Vagrecha & Associates- Chartered Accountant Firms in Whitefield Bangalore',\n",
       "    'Anil DSouza & Associates - Chartered Accountants Firm in Bangalore',\n",
       "    'ASA & Associates LLP',\n",
       "    'GK SUREKA & COMPANY CHARTERED ACCOUNTANTS',\n",
       "    'DOLPHY RONALD CARLO & CO',\n",
       "    'Gowthama & Company',\n",
       "    'RCCO Accounting, GST and Tax Consultancy Firm',\n",
       "    'B N Balakrishna & Company',\n",
       "    'B.R.V Goud & Co.,',\n",
       "    'Badolla & Company, Chartered Accountants',\n",
       "    'K.P. Rao & Co.',\n",
       "    'CA Shivakumara Swamy & Associates - Chartered Accountant, Startup, Company Incorporation',\n",
       "    'Star Company Solutions',\n",
       "    'Vasan & Sampath LLP',\n",
       "    'TPMG & ASSOCIATES, Chartered Accountants',\n",
       "    'A Abraham and Company',\n",
       "    'Bookkeeping Outsourcing Firm',\n",
       "    'Sultan & Lohith Chartered Accountants',\n",
       "    'Tokyo Consulting firm Pvt. Ltd.'],\n",
       "   ['Evolve Accounting',\n",
       "    'Stowers Butterworth Chartered Accountants',\n",
       "    'McGregor Bailey - MGBCA',\n",
       "    \"D'Mello Chartered Accountants Limited\",\n",
       "    'RSM New Zealand (Auckland)',\n",
       "    'KPMG Auckland',\n",
       "    'Auckland Systems Management Associates (NZ) Ltd',\n",
       "    'Sothertons Chartered Accountants',\n",
       "    'Accountancy Insurance',\n",
       "    'Alliott NZ Chartered Accountants',\n",
       "    'SBA Browns Bay',\n",
       "    'William Buck New Zealand',\n",
       "    'Gilligan and Company',\n",
       "    'Norrie & Daughters',\n",
       "    'RSM',\n",
       "    'Grant Thornton New Zealand',\n",
       "    'MFA Limited - Chartered Accountants',\n",
       "    'RSM New Zealand (Auckland North)',\n",
       "    'Moore Stephens Markhams Auckland',\n",
       "    'Carpenter Pratt Chartered Accountants',\n",
       "    'Gilligan and Company Limited',\n",
       "    'Johnston Associates Chartered Accountants Ltd'],\n",
       "   ['PricewaterhouseCoopers LLP',\n",
       "    'CPA Firm South Florida',\n",
       "    'PricewaterhouseCoopers LLP',\n",
       "    'Pricewaterhouse Coopers',\n",
       "    'PricewaterhouseCoopers LLP',\n",
       "    'Kaufman Rossin & Co: Feigelson Marc CPA',\n",
       "    'Solutions Group Accounting Firm',\n",
       "    'Gilbert J D & Company CPA',\n",
       "    'Rivero, Gordimer & Company',\n",
       "    'CMChester Accounting Firm',\n",
       "    'Campbell & Company CPAs',\n",
       "    'Carr, Riggs & Ingram CPAs and Advisors',\n",
       "    'Whittaker Cooper Financial Group',\n",
       "    'Carr, Riggs & Ingram CPAs and Advisors',\n",
       "    'Carr, Riggs & Ingram CPAs and Advisors',\n",
       "    'Carr, Riggs & Ingram CPAs and Advisors',\n",
       "    'Daszkal Bolton LLP',\n",
       "    'CPA firm',\n",
       "    'The Brunton, Strachan & Khan CPA Firm, Chartered',\n",
       "    'RCG Accounting & Associates Inc']]},\n",
       " {'accounting+school': [['Orchids The International School',\n",
       "    'IIFCA Academy ISO 9001 CERTIFIED',\n",
       "    'ðŸŽ“ INSTITUTE OF INTERNATIONAL ACCOUNTANTS ðŸ“– Job oriented Accounting Courses in Bangalore',\n",
       "    'GMaC Accounting School (BTM Layout)',\n",
       "    'IIFCA Institute of Finance and Computer Accounting',\n",
       "    'Bangalore Branch of SIRC of ICAI',\n",
       "    'The Institute of Cost Accountants of India',\n",
       "    'GMaC Accounting School (TR Nagar)',\n",
       "    'Sridevi Institute of Accounting',\n",
       "    'SOLVER SOLUTIONS BANGALORE',\n",
       "    'Acconomics Solutions',\n",
       "    'Associated Tutorials',\n",
       "    'Bangalore ICAI',\n",
       "    'Accountholics',\n",
       "    'Varna Shaale',\n",
       "    'JAIHIND GROUP OF INSTITUTIONS',\n",
       "    'GMaC Accounting School (Electronic City)',\n",
       "    'Kruthi Commerce Coaching Institute',\n",
       "    'Accounting Coach',\n",
       "    'GMaC Accounting School (Hebbal)',\n",
       "    'Maps Cares Associates'],\n",
       "   ['IFA Australia - Institute for Financial Analysts Australia',\n",
       "    'Le Cordon Bleu Australia (Sydney)',\n",
       "    'Australian Institute of Financial Services & Accounting',\n",
       "    'IFA Australia - Institute for Financial Analysts Australia',\n",
       "    'IPA',\n",
       "    'Nicole Practical Accounting Training',\n",
       "    'Keystone Accounting 悉尼会计培训',\n",
       "    'CHC Services Pty Ltd',\n",
       "    'Hannan Accounting & Taxation Services',\n",
       "    'Ausmon Resources',\n",
       "    'Platinum Professional Training',\n",
       "    'Educatio Knowledge Group',\n",
       "    'The University of Sydney Business School',\n",
       "    'SSBT - Sydney School of Business & Technology',\n",
       "    'Sydney International Business College (SIBC)',\n",
       "    'Southern Academy of Business and Technology',\n",
       "    'IIPD :Accounting and Business college',\n",
       "    'Sydney Metro College',\n",
       "    'TAFE NSW Liverpool',\n",
       "    'Australia Institute of Business & Technology',\n",
       "    'Australia Institute of Business & Technology',\n",
       "    'TAFE NSW - St George'],\n",
       "   ['Pawanpreet Dhillon CPA Professional Corporation',\n",
       "    'NOOR ACCOUNTING & TAX SERVICES',\n",
       "    'Professional Accounting Supplementary School',\n",
       "    'LEAP Language Education For Accounting Professionals',\n",
       "    'Chartered Professional Accountants of Canada',\n",
       "    'Canadian Institute of Bookkeeping',\n",
       "    'Toronto Business College',\n",
       "    'Ryerson University - Ted Rogers School of Management',\n",
       "    \"MMPA (Master of Management & Professional Accounting), University of Toronto's Masters of Accounting\",\n",
       "    'Building Owners & Managers Institute Of Canada',\n",
       "    'ACCA Association of Chartered Certified Accountants',\n",
       "    'Harbourfront Tax & Bookkeeping',\n",
       "    'Canadian Business College, Toronto Campus',\n",
       "    'SDG, Chartered Professional Accountant',\n",
       "    'SDG, Chartered Professional Accountant',\n",
       "    'Accounting By Sal',\n",
       "    'IBT College',\n",
       "    'Canadian Business College, Scarborough Campus',\n",
       "    'CIMT College - Scarborough Campus',\n",
       "    'Toronto Bookkeeping',\n",
       "    'Chartered Professional Accountants of Ontario',\n",
       "    'School of Continuing Studies, University of Toronto'],\n",
       "   ['SJPR Accountants Ltd',\n",
       "    'Wilson Wright',\n",
       "    'London School Of Accountancy (Sage & Xero Specialists)',\n",
       "    'ICAEW',\n",
       "    'The Training Place',\n",
       "    'Croydon School of Accountancy and Management',\n",
       "    'School Accounting & Finance Services Limited',\n",
       "    'Uk C B C',\n",
       "    'Common Cents Business Solutions Ltd',\n",
       "    'KBM Accountancy Training, Courses & Recruitment in London',\n",
       "    'Nova Training College- AAT, ACCA College/ London Authorised Training London',\n",
       "    'Chartered Institute of Management Accountants',\n",
       "    'Kaplan London Bridge',\n",
       "    'ICAEW',\n",
       "    'London School of Business & Finance - Marble Arch Campus',\n",
       "    'The Association of Accounting Technicians',\n",
       "    'Bookkeeping Courses',\n",
       "    'Kaplan London Islington',\n",
       "    'LSBF'],\n",
       "   ['Emerald International School',\n",
       "    'Orchids The International School',\n",
       "    'The Institute of Cost Accountants of India',\n",
       "    'ðŸŽ“ INSTITUTE OF INTERNATIONAL ACCOUNTANTS ðŸ“– Job oriented Accounting Courses in Bangalore',\n",
       "    'IIFCA Academy ISO 9001 CERTIFIED',\n",
       "    'Bangalore ICAI',\n",
       "    'Bangalore Branch of SIRC of ICAI',\n",
       "    'GMaC Accounting School (BTM Layout)',\n",
       "    'GMaC Accounting School (TR Nagar)',\n",
       "    'IIFCA Institute of Finance and Computer Accounting',\n",
       "    'Sridevi Institute of Accounting',\n",
       "    'JAIHIND GROUP OF INSTITUTIONS',\n",
       "    'SOLVER SOLUTIONS BANGALORE',\n",
       "    'Acconomics Solutions',\n",
       "    'GMaC Accounting School (Electronic City)',\n",
       "    'Eshaa Academy - Accounting & Taxation Courses in Bangalore',\n",
       "    'Associated Tutorials',\n",
       "    'Accountholics',\n",
       "    'Varna Shaale',\n",
       "    'GMaC Accounting School (Hebbal)',\n",
       "    'Accounting Coach',\n",
       "    'Kruthi Commerce Coaching Institute'],\n",
       "   ['ACG Parnell College',\n",
       "    'Nicoll Jackson',\n",
       "    'Chartered Accountants ANZ',\n",
       "    'MYOB Specialists - Accounting Training Ltd',\n",
       "    'Gibson Accountants Limited',\n",
       "    'Liew & Associates',\n",
       "    'The Career Academy',\n",
       "    'New Zealand Institute of Education (NZIE) - Botany Campus',\n",
       "    'International College of Auckland',\n",
       "    'New Zealand Institute of Education (NZIE) - Manukau Campus',\n",
       "    'Grant Thornton New Zealand',\n",
       "    'Webster & Company',\n",
       "    'Gilligan Business School',\n",
       "    'Gilligan Rowe & Associates LP',\n",
       "    'Glenfield College - Adult and Community Education',\n",
       "    'Lock & Partners',\n",
       "    'Business Headspace - Business Coaching & Training',\n",
       "    'Business Like NZ Limited',\n",
       "    'Cloud 9 Accountants Ltd',\n",
       "    'William Buck New Zealand',\n",
       "    'RSM New Zealand (Auckland North)',\n",
       "    'Leading Edge Services'],\n",
       "   ['Fisher School of Accounting',\n",
       "    'FIU Business School of Accounting',\n",
       "    'FAU School of Accounting Executive Programs',\n",
       "    'QuickBooks Live Courses by Hector Garcia, CPA & Associates',\n",
       "    'Florida State University College of Business',\n",
       "    'Warrington College of Business',\n",
       "    'FAU College of Business',\n",
       "    'Kenneth G. Dixon School of Accounting',\n",
       "    'Atlantic Technical College',\n",
       "    'University of Florida']]},\n",
       " {'accounting+software+company': [['Tally Solutions Private Limited',\n",
       "    'IPFM Consultancy Services Pvt. Ltd',\n",
       "    'Accounting Computer Software Dealers Tally',\n",
       "    'Busy Infotech Pvt. Ltd',\n",
       "    'Sage Software Solutions Pvt Ltd',\n",
       "    'Malusoft',\n",
       "    'Gour Technologies',\n",
       "    'PABM softskills Technology Pvt ltd',\n",
       "    'Ultimate Tek Solutions-ERP|Restaurant|Retail|POS Billing Software Bangalore',\n",
       "    'RYT CRM',\n",
       "    'Axinclo',\n",
       "    'Sprintzeal',\n",
       "    'Priztine solutions',\n",
       "    'Kubera SoftTech Pvt. Ltd.',\n",
       "    'AcTouch Technologies Pvt. Ltd.',\n",
       "    'IDOS INDIA PVT LTD',\n",
       "    'Finata',\n",
       "    'SOLVER SOLUTIONS BANLORE',\n",
       "    'Paper Packaging Co Private Limited',\n",
       "    'TALLY DEALER IN BANGALORE, CHETAN INSTITUTE OF BUSINESS SOLUTIONS'],\n",
       "   ['1source',\n",
       "    'JobReady',\n",
       "    'Xero',\n",
       "    'MicroChannel',\n",
       "    'Sage Software',\n",
       "    'HubOne Pty Ltd',\n",
       "    'Kilimanjaro Consulting',\n",
       "    'Jazoodle',\n",
       "    'Reckon Limited',\n",
       "    'Sage Software',\n",
       "    'Pastel Accounting Software',\n",
       "    'GovReports',\n",
       "    'Tigernix | ERP Software Solutions | Australia Sydney',\n",
       "    'ezyCollect - Accounts Receivable Automation',\n",
       "    'LIAD Accounting',\n",
       "    'Pacific Fund Systems Australia',\n",
       "    'Enprise Australia',\n",
       "    'MyMoney Australia Pty Ltd.',\n",
       "    'Ogg Solutions',\n",
       "    'FinancialForce',\n",
       "    'BarBooks',\n",
       "    'Surgical Partners'],\n",
       "   ['Dye & Durham',\n",
       "    'KLCA CHARTERED PROFESSIONAL ACCOUNTANTS',\n",
       "    'FreshBooks Accounting Software',\n",
       "    'Wave Financial Inc.',\n",
       "    'accountingsoftware.ca',\n",
       "    'Avantune Inc',\n",
       "    'accountingsoftware.ca',\n",
       "    'Reamined Systems Inc.',\n",
       "    'Instant HST',\n",
       "    'Boast Capital - SR&ED automation',\n",
       "    'Postable Inc.',\n",
       "    'AccSoft Business Solutions Inc.',\n",
       "    'Jeruzalski Computer Services Ltd.',\n",
       "    'WorthIT Fixed Assets',\n",
       "    'MobileAccounting.Ca',\n",
       "    'Whitecap Canada',\n",
       "    'Websan Solutions Inc',\n",
       "    'QuickBooks Canada',\n",
       "    'Red Hat Canada Ltd',\n",
       "    'SS&C Technologies Canada Corporation',\n",
       "    'Business Innovation Technologies Inc.',\n",
       "    'Deltek Systems Inc'],\n",
       "   ['Glazers Chartered Accountants',\n",
       "    'Oasis Accountants Ltd',\n",
       "    'Receipt Bank',\n",
       "    'QuickFile Accounting Software',\n",
       "    'Xero',\n",
       "    'KashFlow Software Ltd',\n",
       "    'Capium Limited',\n",
       "    'Albert Invoices',\n",
       "    'Easy Accountax | Cloud Accounting Software',\n",
       "    'Accountagility Ltd',\n",
       "    'Smart Accounting System',\n",
       "    'The Association of Accounting Technicians',\n",
       "    'Clear Books',\n",
       "    'Codestone Group Ltd',\n",
       "    'Clear Books',\n",
       "    'MI Solutions Ltd',\n",
       "    'Aqilla',\n",
       "    'Holimetrix UK Ltd - c/o Boxwood Accounting Ltd',\n",
       "    'Fluidly',\n",
       "    'Clear Books Micro',\n",
       "    'FinanSys',\n",
       "    'Financial Software Ltd'],\n",
       "   ['Escape Room Kormangala',\n",
       "    'BCL India - Balakrishna Consulting LLP',\n",
       "    'HIAccounts India',\n",
       "    'Tally Solutions Private Limited',\n",
       "    'IPFM Consultancy Services Pvt. Ltd',\n",
       "    'SmartStream',\n",
       "    'EASYOPS TECHNOLOGIES PVT LTD',\n",
       "    'Accounting Computer Software Dealers Tally',\n",
       "    'Sage Software Solutions Pvt Ltd',\n",
       "    'IDOS INDIA PVT LTD',\n",
       "    'Edkal Technologies Inc.,',\n",
       "    'Drishti-soft Solutions',\n",
       "    'Retas India Private Limited',\n",
       "    'PayWheel - Payroll Software Solution',\n",
       "    'QuickBill Solutions Private Limited',\n",
       "    'Finly.io Expense Management',\n",
       "    'AcTouch Technologies Pvt. Ltd.',\n",
       "    'PABM softskills Technology Pvt ltd',\n",
       "    'Drishti-Soft Solutions Pvt Ltd',\n",
       "    'Malusoft',\n",
       "    'Path eSolution',\n",
       "    'Ultimate Tek Solutions-ERP|Restaurant|Retail|POS Billing Software Bangalore'],\n",
       "   ['MYOB',\n",
       "    'Strive Accounting Ltd',\n",
       "    'Brunton NZ Ltd - Accounting Software Solutions',\n",
       "    'Reckon New Zealand Pty',\n",
       "    'Top Flight Computer Services',\n",
       "    'Workbench International',\n",
       "    'CashManager Accounting Software',\n",
       "    'Production Management Services',\n",
       "    'Figured',\n",
       "    'Verde New Zealand Limited',\n",
       "    'Prime Business Software',\n",
       "    'Abel Software',\n",
       "    'Accredo Business Software Limited',\n",
       "    'DIY Accounting',\n",
       "    'Q-Accounts Software',\n",
       "    'Exchequer Enterprise Software',\n",
       "    'IDU New Zealand Limited',\n",
       "    'Sybiz Software',\n",
       "    'JC Consulting',\n",
       "    'simPRO Software NZ Ltd',\n",
       "    'CNS Treasury',\n",
       "    'Jada Accounts and Bookkeeping'],\n",
       "   ['Sage 100 ERP Sage 50 Accounting Quickbooks Software Florida Training Support Sales 800.475.1047',\n",
       "    'Sigma Tax Pro',\n",
       "    'NetSuite & Adaptive Insights Consultants',\n",
       "    'Sage Software',\n",
       "    'Sage Payment Solutions',\n",
       "    'Sage',\n",
       "    'IBM',\n",
       "    'TOPS Software, LLC',\n",
       "    'Accounting Business Solutions JCS Sage 50 Sage 100 QuickBooks FL',\n",
       "    'SS&C Advent',\n",
       "    'Sage Software',\n",
       "    'Yardi Systems',\n",
       "    'BST Global',\n",
       "    'Temenos',\n",
       "    'Temenos',\n",
       "    'softchoice',\n",
       "    'Pangea Group: Microsoft Dynamics Software',\n",
       "    'NCR Corporation',\n",
       "    'Softchoice Corporation',\n",
       "    'OnBase by Hyland']]},\n",
       " {'acoustical+consultant': [['Acoustical Surfaces (Pvt.) Ltd.',\n",
       "    'Soundworks',\n",
       "    'RAHUL SARMA',\n",
       "    'SJP Acoustical Consultants',\n",
       "    'Sonics',\n",
       "    'dB Acoustique',\n",
       "    'FairTech',\n",
       "    'Acoustic Control Pvt Ltd',\n",
       "    'Acoustic Consultancy Designs',\n",
       "    'ANUTONE ACOUSTICS LIMITED',\n",
       "    'Orion Acoustic Solutions',\n",
       "    'Newtech Engineering Systems',\n",
       "    'Colour Vibrations',\n",
       "    'Interior Game',\n",
       "    'Nishabd Solutions',\n",
       "    'SoundScape India',\n",
       "    'S.B auto consultants',\n",
       "    'New Tech Engineering Systems',\n",
       "    'Optima Power Solutions India Pvt. Ltd.',\n",
       "    'S&C AV INTEGRATED SOLUTIONS'],\n",
       "   ['VMS Australia Pty Ltd',\n",
       "    'Acoustic Logic Consultancy PTY LTD.',\n",
       "    'Noise & Sound Services',\n",
       "    'Pollution Control Consultancy and Design (PCCD) - Noise Consultants',\n",
       "    'PKA Acoustic Consulting',\n",
       "    'Koikas Acoustics PTY Ltd.',\n",
       "    'Acoustic Consultants Sydney',\n",
       "    'Acoustic Directions',\n",
       "    'Pollution Control Consultancy and Design',\n",
       "    'Acoustic Studio PTY Ltd.',\n",
       "    'IAC Acoustics (Australia) Pty Ltd',\n",
       "    'Acoustic Dynamics Pty Ltd',\n",
       "    'Wilkinson Murray Pty Limited',\n",
       "    'DK Acoustics',\n",
       "    'Blackett Acoustics',\n",
       "    'Acoustic Consulting Engineers Pty Ltd',\n",
       "    'Acoustic Answers - Sound Absorbing Products',\n",
       "    'Bruel & Kjaer Australia',\n",
       "    'Acoustic Works',\n",
       "    'Pulse Acoustical Consultancy Pty Ltd',\n",
       "    'VMS Australia Pty Ltd'],\n",
       "   ['LEA Consulting Ltd.',\n",
       "    'Pro Acoustic Designs',\n",
       "    'Acoustics With Design',\n",
       "    'Aercoustics Engineering Ltd',\n",
       "    'AcoustiGuard-Wilrep Ltd',\n",
       "    'SONICCAN CANADA',\n",
       "    'Drywall Acoustic Lathing & Insulation Local 675',\n",
       "    'Acoustic Interiors',\n",
       "    'The Soundproofing Expert',\n",
       "    'HGC Engineering',\n",
       "    'Jade Acoustics Inc',\n",
       "    'TheQuietRoom.ca',\n",
       "    'Pilchner Schoustal Inc Architectural Acoustics',\n",
       "    'DampMat - Car Sound Proofing, Deadening & Insulation.',\n",
       "    'Sylogix Consulting Inc',\n",
       "    'Sound Listening Environments Inc',\n",
       "    'Sky Acoustics Inc',\n",
       "    'Acoustic Designs',\n",
       "    'SLR Consulting (Canada) Ltd.',\n",
       "    'Isotech Industries Inc.',\n",
       "    'Parklane Mechanical Acoustics',\n",
       "    'Hope Canada Tax'],\n",
       "   ['Resonics',\n",
       "    'KP Acoustics',\n",
       "    'RBA Acoustics',\n",
       "    'Clement Acoustics',\n",
       "    'RBA Acoustics',\n",
       "    'NOVA Acoustics Ltd (Sound Testing & Acoustic Consultants)',\n",
       "    'KP Acoustics',\n",
       "    'AF Acoustics - Acoustic Consultant London',\n",
       "    'ACA Acoustics Limited',\n",
       "    'Shaun Murkett Acoustic Consultants Ltd',\n",
       "    'Acoustic Comfort',\n",
       "    'Sustainable Acoustics Ltd',\n",
       "    'Sandy Brown Associates LLP',\n",
       "    'Aran Acoustics',\n",
       "    'Vanguardia',\n",
       "    'AMS Acoustics Ltd',\n",
       "    'Sound Space Vision',\n",
       "    'Soundtesting.co.uk Ltd',\n",
       "    'Sound Licensing',\n",
       "    'CSG Acoustics',\n",
       "    'Resonics',\n",
       "    'Marshall Day Acoustics'],\n",
       "   ['Acoustical Surfaces (Pvt.) Ltd.',\n",
       "    'Soundworks',\n",
       "    'Acoustic Control Pvt Ltd',\n",
       "    'SJP Acoustical Consultants',\n",
       "    'Colour Vibrations',\n",
       "    'SoundScape India',\n",
       "    'ANUTONE ACOUSTICS LIMITED',\n",
       "    'Optima Power Solutions India Pvt. Ltd.',\n",
       "    'FairTech',\n",
       "    'Newtech Engineering Systems',\n",
       "    'Acoustic Control Private Limited',\n",
       "    'RAHUL SARMA',\n",
       "    'Nishabd Solutions',\n",
       "    'Sonics',\n",
       "    'Orion Acoustic Solutions',\n",
       "    'Himalyan Acoustics India',\n",
       "    'New Tech Engineering Systems',\n",
       "    'Acoustic Consultancy Designs',\n",
       "    'S.B auto consultants',\n",
       "    'Centre Stage'],\n",
       "   ['Covermania Ltd',\n",
       "    'Spirit Of Adventure Trust',\n",
       "    'Marshall Day Acoustics',\n",
       "    'Styles Group Limited Acoustics & Vibration Consultants',\n",
       "    'Earcon Acoustics Ltd',\n",
       "    'NCS Acoustics Ltd',\n",
       "    'Bladon Bronka Acoustics Ltd',\n",
       "    'SLR Consulting NZ Limited',\n",
       "    'Innovators Ltd',\n",
       "    'Amphenol Phitek Limited',\n",
       "    'Beejays Solution Flooring - Interiors -',\n",
       "    'Nomadtika',\n",
       "    'Marshall Day Acoustics',\n",
       "    'Stretchmaster Ceilings',\n",
       "    'Hegley Acoustic Consultants'],\n",
       "   ['MMG Acoustical Consultants']]},\n",
       " {'acrobatic+diving+pool': [[],\n",
       "   ['PRO DIVE Coogee',\n",
       "    'Abyss Scuba Diving',\n",
       "    'North Sydney Olympic Pool',\n",
       "    'Sydney Olympic Park Aquatic Centre',\n",
       "    'Warringah Aquatic Centre',\n",
       "    'Duck and Dive North Shore - Baby Swim Lessons & Swimming School Sydney',\n",
       "    'Duck and Dive Baby Swim School Kogarah',\n",
       "    'Andrew (Boy) Charlton Pool'],\n",
       "   ['Oakville Divers',\n",
       "    'Gib-San Pool and Hot Tub Centre',\n",
       "    'Donald D Summerville Olympic Pool',\n",
       "    'Corbo Management',\n",
       "    'Toronto Pan Am Sports Centre',\n",
       "    'Water Sports'],\n",
       "   ['London Aquatics Centre'],\n",
       "   ['Venkateshwara Kalyana Mantapa, Plaform Road , and',\n",
       "    'Kensington Swimming Pool',\n",
       "    'Dive India - Bengaluru | Learn Scuba Diving in Bengaluru',\n",
       "    'Planet Scuba India'],\n",
       "   ['Spirit Of Adventure Trust',\n",
       "    'West Wave Pool and Leisure Centre',\n",
       "    'Takapuna Pool and Leisure Centre',\n",
       "    'The Olympic Pools & Fitness Centre',\n",
       "    'Glenfield Pool and Leisure Centre',\n",
       "    'Dean Greenwood Swim School'],\n",
       "   ['Atlantic Coast Diving', 'Atlantic Diving Team']]}]"
      ]
     },
     "execution_count": 145,
     "metadata": {},
     "output_type": "execute_result"
    }
   ],
   "source": [
    "# filename = \"google_mapping.json\"\n",
    "helpers.fetch_businesses_from_list(au_categories[6:13])"
   ]
  },
  {
   "cell_type": "code",
   "execution_count": 20,
   "metadata": {},
   "outputs": [
    {
     "data": {
      "text/plain": [
       "[{'academy': []},\n",
       " {'accountant': []},\n",
       " {'accounting+firm': []},\n",
       " {'accounting+school': []},\n",
       " {'accounting+software+company': []},\n",
       " {'acoustical+consultant': []},\n",
       " {'acrobatic+diving+pool': []}]"
      ]
     },
     "execution_count": 20,
     "metadata": {},
     "output_type": "execute_result"
    }
   ],
   "source": [
    "list(map(helpers.fetch_businesses, matches))"
   ]
  },
  {
   "cell_type": "code",
   "execution_count": 161,
   "metadata": {},
   "outputs": [
    {
     "data": {
      "text/plain": [
       "[1, 4, 9, 16]"
      ]
     },
     "execution_count": 161,
     "metadata": {},
     "output_type": "execute_result"
    }
   ],
   "source": [
    "list(map(lambda x: x *x, [1,2,3,4]))"
   ]
  },
  {
   "cell_type": "code",
   "execution_count": null,
   "metadata": {},
   "outputs": [],
   "source": [
    "# filename = \"partner_mapping.json\"\n",
    "\n",
    "# from threading import Thread\n",
    "# Thread( target = save_businesses_to_file, args = (partner_categories_1, filename)).start()\n",
    "# save_businesses_to_file(flattened_list, filename)"
   ]
  },
  {
   "cell_type": "code",
   "execution_count": null,
   "metadata": {},
   "outputs": [],
   "source": [
    "# get all parent matches (restaurant school manufacturer) c\n",
    "filename = \"google_mapping.json\"\n",
    "google_mapping = load_categories(filename)\n",
    "filename = \"partner_mapping.json\"\n",
    "partner_mapping = load_categories(filename)"
   ]
  },
  {
   "cell_type": "code",
   "execution_count": null,
   "metadata": {},
   "outputs": [],
   "source": [
    "temp = get_matching_categories(google_mapping, partner_mapping)"
   ]
  },
  {
   "cell_type": "code",
   "execution_count": null,
   "metadata": {},
   "outputs": [],
   "source": [
    "difference -= SortedSet(temp.google_categories.tolist())\n",
    "result = result.append(temp)"
   ]
  },
  {
   "cell_type": "code",
   "execution_count": null,
   "metadata": {},
   "outputs": [],
   "source": [
    "translationTable = str.maketrans(\"éàèùâêîôûçã\", \"eaeuaeiouca\")"
   ]
  },
  {
   "cell_type": "code",
   "execution_count": null,
   "metadata": {},
   "outputs": [],
   "source": [
    "temp = get_synonym_matches(difference, partner_categories_1)"
   ]
  },
  {
   "cell_type": "code",
   "execution_count": null,
   "metadata": {},
   "outputs": [],
   "source": [
    "temp = temp[temp.partner_categories.apply(len)>0]"
   ]
  },
  {
   "cell_type": "code",
   "execution_count": null,
   "metadata": {},
   "outputs": [],
   "source": [
    "difference -= SortedSet(temp.google_categories.tolist())\n",
    "result = result.append(temp)"
   ]
  },
  {
   "cell_type": "code",
   "execution_count": null,
   "metadata": {},
   "outputs": [],
   "source": [
    "# import matplotlib.pyplot as plt\n",
    "# import numpy as np\n",
    "# %matplotlib inline"
   ]
  },
  {
   "cell_type": "code",
   "execution_count": null,
   "metadata": {},
   "outputs": [],
   "source": [
    "# from collections import Counter\n",
    "# list1= ' '.join(difference).split()\n",
    "# counts = Counter(list1)\n",
    "# # counts.most_common(100)"
   ]
  },
  {
   "cell_type": "code",
   "execution_count": null,
   "metadata": {},
   "outputs": [],
   "source": [
    "# from nltk.corpus import wordnet as wn\n",
    "# import nltk\n",
    "# nltk.download('wordnet')"
   ]
  },
  {
   "cell_type": "code",
   "execution_count": null,
   "metadata": {},
   "outputs": [],
   "source": [
    "# wn.all_synsets('n')"
   ]
  },
  {
   "cell_type": "code",
   "execution_count": null,
   "metadata": {},
   "outputs": [],
   "source": [
    "# from nltk.corpus import wordnet as wn\n",
    "# nouns = {x.name().split('.', 1)[0] for x in wn.all_synsets('n')}"
   ]
  },
  {
   "cell_type": "code",
   "execution_count": null,
   "metadata": {},
   "outputs": [],
   "source": [
    "# labels, values = zip(*counts.most_common(20))\n",
    "# labels = list(labels)\n",
    "# values= list(values)"
   ]
  },
  {
   "cell_type": "code",
   "execution_count": null,
   "metadata": {},
   "outputs": [],
   "source": [
    "# for i, label in enumerate(labels):\n",
    "#     if re.match('[^a-zA-Z]+', label) is not None or label not in nouns:\n",
    "#         del labels[i]\n",
    "#         del values[i]"
   ]
  },
  {
   "cell_type": "code",
   "execution_count": null,
   "metadata": {},
   "outputs": [],
   "source": [
    "# indexes = np.arange(len(labels))\n",
    "# width = 1\n",
    "# plt.figure(figsize=(24,8))\n",
    "# plt.bar(indexes, values)\n",
    "# plt.xticks(indexes, labels)\n",
    "# plt.show()"
   ]
  },
  {
   "cell_type": "code",
   "execution_count": null,
   "metadata": {},
   "outputs": [],
   "source": [
    "# from threading import Thread \n",
    "fetcher = initialize_fetcher()\n",
    "restart_phantomjs()\n",
    "# Thread(target=fetch_categories_from_list, args=(invalid_list,'invalid_categories.json', )).start()\n",
    "fetch_categories_from_list(difference, 'parent_categories.json')"
   ]
  },
  {
   "cell_type": "code",
   "execution_count": null,
   "metadata": {},
   "outputs": [],
   "source": [
    "# results = load_results(\"result.csv\")"
   ]
  },
  {
   "cell_type": "code",
   "execution_count": null,
   "metadata": {},
   "outputs": [],
   "source": [
    "biz_categories = load_categories('parent_categories.json')"
   ]
  },
  {
   "cell_type": "code",
   "execution_count": null,
   "metadata": {},
   "outputs": [],
   "source": [
    "rem_categories = load_categories('remaining.json')"
   ]
  },
  {
   "cell_type": "code",
   "execution_count": null,
   "metadata": {},
   "outputs": [],
   "source": [
    "# inv_categories = load_categories('invalid_categories.json')"
   ]
  },
  {
   "cell_type": "code",
   "execution_count": null,
   "metadata": {},
   "outputs": [],
   "source": [
    "# biz_list = [category for category, category_list in biz_categories]"
   ]
  },
  {
   "cell_type": "code",
   "execution_count": null,
   "metadata": {},
   "outputs": [],
   "source": [
    "# inv_temp = pd.DataFrame(inv_categories)"
   ]
  },
  {
   "cell_type": "code",
   "execution_count": null,
   "metadata": {},
   "outputs": [],
   "source": [
    "# check = inv_temp[inv_temp[0] == 'andalusian restaurant'].values.tolist()[0]"
   ]
  },
  {
   "cell_type": "code",
   "execution_count": null,
   "metadata": {},
   "outputs": [],
   "source": [
    "# invalid_list = [category for category, category_list in inv_categories]"
   ]
  },
  {
   "cell_type": "code",
   "execution_count": null,
   "metadata": {},
   "outputs": [],
   "source": [
    "# invalid_cat = list(map(clean, parent_categories))"
   ]
  },
  {
   "cell_type": "code",
   "execution_count": null,
   "metadata": {},
   "outputs": [],
   "source": [
    "# invalid_list = [ element[0] for element in list(compress(biz_categories, invalid_cat)) ]"
   ]
  },
  {
   "cell_type": "code",
   "execution_count": null,
   "metadata": {},
   "outputs": [],
   "source": [
    "parent_category_mapping = pd.DataFrame(list(zip(biz_list, map(get_parent_category, biz_categories))), columns = columns)"
   ]
  },
  {
   "cell_type": "code",
   "execution_count": null,
   "metadata": {},
   "outputs": [],
   "source": [
    "# get values with occurunce above 3 in sorted order\n",
    "# loop through each and d chck if xists in result\n",
    "# if does make a tuple of it\n",
    "# use filter and map"
   ]
  },
  {
   "cell_type": "code",
   "execution_count": null,
   "metadata": {},
   "outputs": [],
   "source": [
    "# invalid_category_mapping = pd.DataFrame(list(zip(invalid_list, map(get_parent_category, inv_categories))), columns = columns)"
   ]
  },
  {
   "cell_type": "code",
   "execution_count": null,
   "metadata": {},
   "outputs": [],
   "source": [
    "# parent_category_mapping[parent_category_mapping.google_categories.isin(invalid_category_mapping.google_categories)]"
   ]
  },
  {
   "cell_type": "code",
   "execution_count": null,
   "metadata": {},
   "outputs": [],
   "source": [
    "parent_category_mapping = parent_category_mapping.append(invalid_category_mapping).drop_duplicates(subset='google_categories', keep='last').sort_values('google_categories')"
   ]
  },
  {
   "cell_type": "code",
   "execution_count": null,
   "metadata": {},
   "outputs": [],
   "source": [
    "temp = parent_category_mapping[parent_category_mapping.google_categories.isin(difference)].drop_duplicates(subset='google_categories', keep='last')"
   ]
  },
  {
   "cell_type": "code",
   "execution_count": null,
   "metadata": {},
   "outputs": [],
   "source": [
    "temp = temp.query('google_categories != partner_categories')"
   ]
  },
  {
   "cell_type": "code",
   "execution_count": null,
   "metadata": {},
   "outputs": [],
   "source": [
    "temp = temp[~temp.partner_categories.isnull()]"
   ]
  },
  {
   "cell_type": "code",
   "execution_count": null,
   "metadata": {},
   "outputs": [],
   "source": [
    "temp_result = result[result.google_categories.isin(temp.partner_categories)]"
   ]
  },
  {
   "cell_type": "code",
   "execution_count": null,
   "metadata": {},
   "outputs": [],
   "source": [
    "final_df = pd.merge(temp, temp_result,  how = 'right', left_on = 'partner_categories', right_on = 'google_categories')[['google_categories_x', 'partner_categories_y']]"
   ]
  },
  {
   "cell_type": "code",
   "execution_count": null,
   "metadata": {},
   "outputs": [],
   "source": [
    "final_df.columns = columns"
   ]
  },
  {
   "cell_type": "code",
   "execution_count": null,
   "metadata": {},
   "outputs": [],
   "source": [
    "result = result.append(final_df)"
   ]
  },
  {
   "cell_type": "code",
   "execution_count": null,
   "metadata": {},
   "outputs": [],
   "source": [
    "difference -= SortedSet(final_df.google_categories.tolist())"
   ]
  },
  {
   "cell_type": "code",
   "execution_count": null,
   "metadata": {},
   "outputs": [],
   "source": [
    "category_parent_pd = pd.DataFrame(rem_categories, columns = columns)"
   ]
  },
  {
   "cell_type": "code",
   "execution_count": null,
   "metadata": {},
   "outputs": [],
   "source": [
    "most_occuring = list(map(get_most_occuring_categories, category_parent_pd.values.tolist()))"
   ]
  },
  {
   "cell_type": "code",
   "execution_count": null,
   "metadata": {},
   "outputs": [],
   "source": [
    "def exists_in_result(categories):\n",
    "    if not categories:\n",
    "        return np.nan\n",
    "    for category in categories:\n",
    "        if category in result.google_categories.tolist():\n",
    "            return category\n",
    "    return np.nan"
   ]
  },
  {
   "cell_type": "code",
   "execution_count": null,
   "metadata": {},
   "outputs": [],
   "source": [
    "parent_categories = pd.DataFrame(list(zip( category_parent_pd.google_categories.tolist(), map(exists_in_result, most_occuring))), columns= ['google_categories','parent_categories'])"
   ]
  },
  {
   "cell_type": "code",
   "execution_count": null,
   "metadata": {},
   "outputs": [],
   "source": [
    "# list(zip( category_parent_pd.google_categories.tolist(), most_occuring))"
   ]
  },
  {
   "cell_type": "code",
   "execution_count": null,
   "metadata": {},
   "outputs": [],
   "source": [
    "parent_categories = parent_categories[parent_categories.parent_categories.notnull()]"
   ]
  },
  {
   "cell_type": "code",
   "execution_count": null,
   "metadata": {},
   "outputs": [],
   "source": [
    "# temp.merge(parent_categories)\n",
    "temp = pd.merge(category_parent_pd, parent_categories,  how = 'inner', on = 'google_categories')"
   ]
  },
  {
   "cell_type": "code",
   "execution_count": null,
   "metadata": {},
   "outputs": [],
   "source": [
    "temp_result = result[result.google_categories.isin(temp.parent_categories)]"
   ]
  },
  {
   "cell_type": "code",
   "execution_count": null,
   "metadata": {},
   "outputs": [],
   "source": [
    "final_df = pd.merge(temp, temp_result,  how = 'right', left_on = 'parent_categories', right_on = 'google_categories')[['google_categories_x', 'partner_categories_y']]"
   ]
  },
  {
   "cell_type": "code",
   "execution_count": null,
   "metadata": {},
   "outputs": [],
   "source": [
    "final_df.columns = columns"
   ]
  },
  {
   "cell_type": "code",
   "execution_count": null,
   "metadata": {},
   "outputs": [],
   "source": [
    "result = result.append(final_df)"
   ]
  },
  {
   "cell_type": "code",
   "execution_count": null,
   "metadata": {},
   "outputs": [],
   "source": [
    "difference -= SortedSet(final_df.google_categories.tolist())"
   ]
  },
  {
   "cell_type": "code",
   "execution_count": null,
   "metadata": {},
   "outputs": [],
   "source": [
    "# for i, category in enumerate(no_second):\n",
    "#     try:\n",
    "#         biz_names = google_mapping[category]\n",
    "#     except:\n",
    "#         continue\n",
    "        \n",
    "#     print(\"{} {}\".format(i, category))\n",
    "        \n",
    "#     cat_results = []\n",
    "    \n",
    "#     if len(biz_names) > 10:\n",
    "#         sample = random.sample(biz_names, 10)\n",
    "#     else:\n",
    "#         sample = biz_names\n",
    "    \n",
    "#     for biz_name in sample:\n",
    "#         biz_results = get_facebook_category(biz_name)\n",
    "#         print(biz_name, biz_results)\n",
    "#         cat_results += biz_results\n",
    "        \n",
    "#     category_mapping.append({category: cat_results})"
   ]
  },
  {
   "cell_type": "code",
   "execution_count": null,
   "metadata": {},
   "outputs": [],
   "source": [
    "# with open('facebook_mapping.json', 'w') as file:\n",
    "#     file.write(json.dumps(category_mapping))"
   ]
  },
  {
   "cell_type": "code",
   "execution_count": null,
   "metadata": {},
   "outputs": [],
   "source": [
    "facebook_mapping = load_categories('facebook_mapping.json')"
   ]
  },
  {
   "cell_type": "code",
   "execution_count": null,
   "metadata": {},
   "outputs": [],
   "source": [
    "fb_categories = get_facebook_df(facebook_mapping)"
   ]
  },
  {
   "cell_type": "code",
   "execution_count": null,
   "metadata": {},
   "outputs": [],
   "source": [
    "fb_categories = fb_categories[fb_categories.google_categories.isin(difference)].drop_duplicates(subset='google_categories', keep='last')"
   ]
  },
  {
   "cell_type": "code",
   "execution_count": null,
   "metadata": {},
   "outputs": [],
   "source": [
    "temp = get_close_matches(fb_categories.facebook_categories.drop_duplicates().tolist(), result.google_categories.tolist(), 0.9)"
   ]
  },
  {
   "cell_type": "code",
   "execution_count": null,
   "metadata": {},
   "outputs": [],
   "source": [
    "temp = temp.apply(lambda x: [x[0], x[1][0]], axis=1, result_type='expand')"
   ]
  },
  {
   "cell_type": "code",
   "execution_count": null,
   "metadata": {},
   "outputs": [],
   "source": [
    "temp.columns = ['facebook_categories', 'result_categories']"
   ]
  },
  {
   "cell_type": "code",
   "execution_count": null,
   "metadata": {},
   "outputs": [],
   "source": [
    "last = pd.merge(fb_categories, temp, how='inner', on='facebook_categories').drop_duplicates(subset='google_categories', keep='last')"
   ]
  },
  {
   "cell_type": "code",
   "execution_count": null,
   "metadata": {},
   "outputs": [],
   "source": [
    "temp_result = result[result.google_categories.isin(last.result_categories)]"
   ]
  },
  {
   "cell_type": "code",
   "execution_count": null,
   "metadata": {},
   "outputs": [],
   "source": [
    "final_df = pd.merge(last, temp_result,  how = 'right', left_on = 'result_categories', right_on = 'google_categories')[['google_categories_x', 'partner_categories']]"
   ]
  },
  {
   "cell_type": "code",
   "execution_count": null,
   "metadata": {},
   "outputs": [],
   "source": [
    "final_df.columns = columns"
   ]
  },
  {
   "cell_type": "code",
   "execution_count": null,
   "metadata": {},
   "outputs": [],
   "source": [
    "final_df = final_df[~final_df.google_categories.isin(result.google_categories)]"
   ]
  },
  {
   "cell_type": "code",
   "execution_count": null,
   "metadata": {},
   "outputs": [],
   "source": [
    "result = result.append(final_df)"
   ]
  },
  {
   "cell_type": "code",
   "execution_count": null,
   "metadata": {},
   "outputs": [],
   "source": [
    "difference -= SortedSet(final_df.google_categories.tolist())"
   ]
  },
  {
   "cell_type": "code",
   "execution_count": null,
   "metadata": {},
   "outputs": [],
   "source": [
    "len(difference)"
   ]
  },
  {
   "cell_type": "code",
   "execution_count": null,
   "metadata": {},
   "outputs": [],
   "source": [
    "fetch_business_categories('tiffin service provider')"
   ]
  },
  {
   "cell_type": "code",
   "execution_count": null,
   "metadata": {},
   "outputs": [],
   "source": [
    "fetch_businesses('metalware producer')"
   ]
  },
  {
   "cell_type": "code",
   "execution_count": null,
   "metadata": {},
   "outputs": [],
   "source": [
    "with open('difference.json', 'w') as file:\n",
    "    file.write(json.dumps(list(difference)))"
   ]
  },
  {
   "cell_type": "code",
   "execution_count": null,
   "metadata": {},
   "outputs": [],
   "source": [
    "filename = \"last.json\"\n",
    "save_businesses_to_file(difference, filename)\n",
    "# Thread( target = save_businesses_to_file, args = (difference, filename)).start()"
   ]
  },
  {
   "cell_type": "code",
   "execution_count": null,
   "metadata": {},
   "outputs": [],
   "source": [
    "!curl --upload-file no_second.json https://transfer.sh/no_second.json"
   ]
  },
  {
   "cell_type": "code",
   "execution_count": null,
   "metadata": {},
   "outputs": [],
   "source": [
    "reload(helpers)\n",
    "from helpers import *"
   ]
  },
  {
   "cell_type": "code",
   "execution_count": null,
   "metadata": {},
   "outputs": [],
   "source": [
    "result = result.drop_duplicates(subset='google_categories', keep='last')"
   ]
  },
  {
   "cell_type": "code",
   "execution_count": null,
   "metadata": {},
   "outputs": [],
   "source": [
    "result.shape"
   ]
  },
  {
   "cell_type": "code",
   "execution_count": null,
   "metadata": {},
   "outputs": [],
   "source": [
    "result.to_csv('pandas_result.csv')"
   ]
  },
  {
   "cell_type": "code",
   "execution_count": null,
   "metadata": {},
   "outputs": [],
   "source": [
    "invalid_list = result[result.partner_categories.str.match(\"[\\W]+\", na =False)].google_categories.tolist()"
   ]
  },
  {
   "cell_type": "code",
   "execution_count": null,
   "metadata": {},
   "outputs": [],
   "source": [
    "result = pd.read_csv('pandas_result.csv')[['google_categories','partner_categories']]"
   ]
  },
  {
   "cell_type": "code",
   "execution_count": null,
   "metadata": {},
   "outputs": [],
   "source": []
  }
 ],
 "metadata": {
  "kernelspec": {
   "display_name": "Python 3",
   "language": "python",
   "name": "python3"
  },
  "language_info": {
   "codemirror_mode": {
    "name": "ipython",
    "version": 3
   },
   "file_extension": ".py",
   "mimetype": "text/x-python",
   "name": "python",
   "nbconvert_exporter": "python",
   "pygments_lexer": "ipython3",
   "version": "3.6.5"
  }
 },
 "nbformat": 4,
 "nbformat_minor": 2
}
