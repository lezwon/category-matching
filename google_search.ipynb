{
 "cells": [
  {
   "cell_type": "code",
   "execution_count": 1,
   "metadata": {},
   "outputs": [],
   "source": [
    "import sys\n",
    "import csv"
   ]
  },
  {
   "cell_type": "code",
   "execution_count": 2,
   "metadata": {},
   "outputs": [],
   "source": [
    "from helpers import *\n",
    "import difflib"
   ]
  },
  {
   "cell_type": "code",
   "execution_count": 3,
   "metadata": {},
   "outputs": [],
   "source": [
    "from google import google\n",
    "from concurrent.futures import ThreadPoolExecutor\n",
    "import csv\n",
    "import json\n",
    "from multiprocessing import Pool\n",
    "from sortedcontainers import SortedSet"
   ]
  },
  {
   "cell_type": "code",
   "execution_count": 4,
   "metadata": {},
   "outputs": [],
   "source": [
    "from urllib.request import urlopen\n",
    "from  urllib.parse import quote_plus\n",
    "import json\n",
    "import re"
   ]
  },
  {
   "cell_type": "code",
   "execution_count": 5,
   "metadata": {},
   "outputs": [],
   "source": [
    "from tornado_fetcher import Fetcher\n",
    "from bs4 import BeautifulSoup"
   ]
  },
  {
   "cell_type": "code",
   "execution_count": 6,
   "metadata": {},
   "outputs": [],
   "source": [
    "from google import google\n",
    "from concurrent.futures import ThreadPoolExecutor\n",
    "import requests\n",
    "import pandas as pd"
   ]
  },
  {
   "cell_type": "code",
   "execution_count": 7,
   "metadata": {},
   "outputs": [],
   "source": [
    "import os\n",
    "import time"
   ]
  },
  {
   "cell_type": "code",
   "execution_count": 8,
   "metadata": {},
   "outputs": [],
   "source": [
    "from importlib import reload\n",
    "import helpers"
   ]
  },
  {
   "cell_type": "code",
   "execution_count": 9,
   "metadata": {},
   "outputs": [
    {
     "data": {
      "text/plain": [
       "'3.6.5 |Anaconda custom (64-bit)| (default, Apr 26 2018, 08:42:37) \\n[GCC 4.2.1 Compatible Clang 4.0.1 (tags/RELEASE_401/final)]'"
      ]
     },
     "execution_count": 9,
     "metadata": {},
     "output_type": "execute_result"
    }
   ],
   "source": [
    "sys.version"
   ]
  },
  {
   "cell_type": "code",
   "execution_count": null,
   "metadata": {},
   "outputs": [],
   "source": [
    "csv_filename = \"result.csv\""
   ]
  },
  {
   "cell_type": "code",
   "execution_count": null,
   "metadata": {},
   "outputs": [],
   "source": [
    "# cities = get_random_cities(3)\n",
    "cities = ['', 'Sydney, Australia', 'Toronto, Canada', 'London, England', 'Bengaluru, India', 'Auckland, New Zealand', 'Florida, United States']"
   ]
  },
  {
   "cell_type": "code",
   "execution_count": 13,
   "metadata": {},
   "outputs": [],
   "source": [
    "au_categories = get_data(\"data/google_au_categories.txt\")\n",
    "ca_categories = get_data(\"data/google_ca_categories.txt\")\n",
    "gb_categories = get_data(\"data/google_gb_categories.txt\")\n",
    "in_categories = get_data(\"data/google_in_categories.txt\")\n",
    "nz_categories = get_data(\"data/google_nz_categories.txt\")\n",
    "us_categories = get_data(\"data/google_us_categories.txt\")"
   ]
  },
  {
   "cell_type": "code",
   "execution_count": null,
   "metadata": {},
   "outputs": [],
   "source": [
    "partner_categories_1 = get_data(\"data/partner_categories_1.txt\")\n",
    "partner_categories_2 = get_data(\"data/partner_categories_2.txt\")\n",
    "partner_categories_3 = get_data(\"data/partner_categories_3.txt\")"
   ]
  },
  {
   "cell_type": "code",
   "execution_count": null,
   "metadata": {},
   "outputs": [],
   "source": [
    "megaset = SortedSet().union(au_categories, ca_categories, gb_categories, in_categories, nz_categories, us_categories)"
   ]
  },
  {
   "cell_type": "code",
   "execution_count": null,
   "metadata": {},
   "outputs": [],
   "source": [
    "common_categories = megaset.intersection(partner_categories_1)"
   ]
  },
  {
   "cell_type": "code",
   "execution_count": null,
   "metadata": {},
   "outputs": [],
   "source": [
    "# clear_csv()"
   ]
  },
  {
   "cell_type": "code",
   "execution_count": null,
   "metadata": {},
   "outputs": [],
   "source": [
    "# write_result(common_categories, common_categories)"
   ]
  },
  {
   "cell_type": "code",
   "execution_count": null,
   "metadata": {},
   "outputs": [],
   "source": [
    "columns=['google_categories','partner_categories']"
   ]
  },
  {
   "cell_type": "code",
   "execution_count": null,
   "metadata": {},
   "outputs": [],
   "source": [
    "result = pd.DataFrame(columns=columns)"
   ]
  },
  {
   "cell_type": "code",
   "execution_count": null,
   "metadata": {},
   "outputs": [],
   "source": [
    "temp = pd.DataFrame(list(zip(common_categories, common_categories)), columns = columns)\n",
    "result = result.append(temp)"
   ]
  },
  {
   "cell_type": "code",
   "execution_count": null,
   "metadata": {},
   "outputs": [],
   "source": [
    "difference = megaset - common_categories"
   ]
  },
  {
   "cell_type": "code",
   "execution_count": null,
   "metadata": {},
   "outputs": [],
   "source": [
    "temp = get_close_matches(difference, partner_categories_1)"
   ]
  },
  {
   "cell_type": "code",
   "execution_count": null,
   "metadata": {},
   "outputs": [],
   "source": [
    "# write_result(google_matches, partner_matches)"
   ]
  },
  {
   "cell_type": "code",
   "execution_count": null,
   "metadata": {},
   "outputs": [],
   "source": [
    "result = result.append(temp)"
   ]
  },
  {
   "cell_type": "code",
   "execution_count": null,
   "metadata": {},
   "outputs": [],
   "source": [
    "difference -= SortedSet(temp.google_categories.tolist())"
   ]
  },
  {
   "cell_type": "code",
   "execution_count": null,
   "metadata": {},
   "outputs": [],
   "source": [
    "# temp = get_close_matches(difference, partner_categories_1, 0.94)"
   ]
  },
  {
   "cell_type": "code",
   "execution_count": null,
   "metadata": {},
   "outputs": [],
   "source": [
    "# difference -= SortedSet(temp[0].tolist())\n",
    "# result = result.append(temp)"
   ]
  },
  {
   "cell_type": "code",
   "execution_count": null,
   "metadata": {},
   "outputs": [],
   "source": [
    "# flattened_list = []\n",
    "# for matches in partner_matches:\n",
    "#     flattened_list += matches"
   ]
  },
  {
   "cell_type": "code",
   "execution_count": null,
   "metadata": {},
   "outputs": [],
   "source": [
    "url = \"https://www.google.com/search?tbm=lcl&q=abbey\""
   ]
  },
  {
   "cell_type": "code",
   "execution_count": null,
   "metadata": {},
   "outputs": [],
   "source": [
    "response = helpers.fetch_response(url)"
   ]
  },
  {
   "cell_type": "code",
   "execution_count": null,
   "metadata": {},
   "outputs": [],
   "source": [
    "from IPython.core.display import display, HTML"
   ]
  },
  {
   "cell_type": "code",
   "execution_count": 10,
   "metadata": {},
   "outputs": [],
   "source": [
    "import helpers"
   ]
  },
  {
   "cell_type": "code",
   "execution_count": 71,
   "metadata": {},
   "outputs": [
    {
     "data": {
      "text/plain": [
       "<module 'helpers' from '/Users/synup/Projects/category-matching/helpers.py'>"
      ]
     },
     "execution_count": 71,
     "metadata": {},
     "output_type": "execute_result"
    }
   ],
   "source": [
    "import importlib\n",
    "importlib.reload(helpers)"
   ]
  },
  {
   "cell_type": "code",
   "execution_count": 133,
   "metadata": {},
   "outputs": [],
   "source": [
    "url = 'https://www.google.com/search?tbm=lcl&q=accounting+school New Delhi India'"
   ]
  },
  {
   "cell_type": "code",
   "execution_count": null,
   "metadata": {},
   "outputs": [],
   "source": [
    "helpers.fetch_response(url)"
   ]
  },
  {
   "cell_type": "code",
   "execution_count": 135,
   "metadata": {},
   "outputs": [],
   "source": [
    "soup = BeautifulSoup(response, 'html.parser')"
   ]
  },
  {
   "cell_type": "code",
   "execution_count": null,
   "metadata": {},
   "outputs": [],
   "source": [
    "[element.get_text() for element in soup.select(\"div[role=heading]\")]"
   ]
  },
  {
   "cell_type": "code",
   "execution_count": 97,
   "metadata": {},
   "outputs": [
    {
     "data": {
      "text/plain": [
       "{'accounting+school': []}"
      ]
     },
     "execution_count": 97,
     "metadata": {},
     "output_type": "execute_result"
    }
   ],
   "source": [
    "helpers.fetch_businesses('accounting school')"
   ]
  },
  {
   "cell_type": "code",
   "execution_count": 120,
   "metadata": {},
   "outputs": [
    {
     "name": "stdout",
     "output_type": "stream",
     "text": [
      "https://www.google.com/search?tbm=lcl&q=school goa\n",
      "['Sharada Mandir School', \"The King's School\", 'Edify School', 'Paradise School Goa', 'Manovikas English Medium School', 'Sunshine Worldwide School', 'Navy Children School', 'Mount Litera Zee School', 'Adarsh V.V. High School', 'Fatima Convent High School', 'Bloomz International School', 'Don Bosco Higher Secondary School, Panjim', \"St. Mary's Convent High School\", 'Loyola High School', 'THE ARDEE SCHOOL (SENIOR)', 'St.Britto High School', \"Nisha's Play School\", \"People's Higher Secondary School\", 'Green Meadows School', 'Kendriya Vidyalaya, Bambolim Camp']\n",
      "https://www.google.com/search?tbm=lcl&q=school jaipur\n",
      "['Calorx Public School, Jaipur', 'Cambridge Court High School', 'Pearson School Jaipur', 'Banyan Tree School, Jaipur', 'Sanskar School', 'St Edmunds School Jaipur', \"MGD Girls' School\", 'Jaipur School', 'IIS School, Mansarovar, Jaipur', 'Jayshree Periwal High School', 'Neerja Modi School', 'St Xaviers School', 'Seedling Public School', 'Rukmani Birla Modern High School', 'Tagore International School', 'St.Angela Sophia Senior Secondary School', 'SRN International School', 'Delhi Public School', 'SBIOA Public School', 'Mahaveer Public School']\n",
      "https://www.google.com/search?tbm=lcl&q=school andaman\n",
      "['Navy Children School', 'Vivekananda Kendra Vidyalaya', 'Carmel Senior Secondary School', 'Kamaraj English Medium School (Senior Secondary)', 'Government Model Senior Secondary School', 'Ummat Public School', 'Kamaraj English Medium School', 'Govt. Secondary School', 'Government Senior Secondary School ( Telugu Medium)', 'M E S School', 'Mahatma Gandhi International School', 'Kendriya Vidyalaya No.1', 'Ummat Public School', 'Govt Sr. Secondary School', 'Nirmala School', 'Navy Children School', \"St Mary's School (Senior Secondary)\", 'Kamaraj english medium school', 'Govt Model Sr Sec School', 'Govt Model Senior Secondary School']\n"
     ]
    },
    {
     "data": {
      "text/plain": [
       "['Navy Children School',\n",
       " 'Vivekananda Kendra Vidyalaya',\n",
       " 'Carmel Senior Secondary School',\n",
       " 'Kamaraj English Medium School (Senior Secondary)',\n",
       " 'Government Model Senior Secondary School',\n",
       " 'Ummat Public School',\n",
       " 'Kamaraj English Medium School',\n",
       " 'Govt. Secondary School',\n",
       " 'Government Senior Secondary School ( Telugu Medium)',\n",
       " 'M E S School',\n",
       " 'Mahatma Gandhi International School',\n",
       " 'Kendriya Vidyalaya No.1',\n",
       " 'Ummat Public School',\n",
       " 'Govt Sr. Secondary School',\n",
       " 'Nirmala School',\n",
       " 'Navy Children School',\n",
       " \"St Mary's School (Senior Secondary)\",\n",
       " 'Kamaraj english medium school',\n",
       " 'Govt Model Sr Sec School',\n",
       " 'Govt Model Senior Secondary School']"
      ]
     },
     "execution_count": 120,
     "metadata": {},
     "output_type": "execute_result"
    }
   ],
   "source": [
    "helpers.fetch_biz_for_city('school', 'goa')\n",
    "helpers.fetch_biz_for_city('school', 'jaipur')\n",
    "helpers.fetch_biz_for_city('school', 'andaman')"
   ]
  },
  {
   "cell_type": "code",
   "execution_count": 44,
   "metadata": {},
   "outputs": [],
   "source": [
    "args = [ ('school', city) for city in helpers.cities ]"
   ]
  },
  {
   "cell_type": "code",
   "execution_count": null,
   "metadata": {},
   "outputs": [],
   "source": [
    "pool = Pool()\n",
    "biz_list = []\n",
    "pool.starmap(helpers.fetch_biz_for_city, args)"
   ]
  },
  {
   "cell_type": "code",
   "execution_count": 14,
   "metadata": {},
   "outputs": [],
   "source": [
    "matches = au_categories[6:13]"
   ]
  },
  {
   "cell_type": "code",
   "execution_count": null,
   "metadata": {},
   "outputs": [],
   "source": [
    "fetch_response(url)"
   ]
  },
  {
   "cell_type": "code",
   "execution_count": 29,
   "metadata": {},
   "outputs": [],
   "source": [
    "Thread(target=fetch_response, args=(url,)).start()"
   ]
  },
  {
   "cell_type": "code",
   "execution_count": 122,
   "metadata": {},
   "outputs": [
    {
     "name": "stdout",
     "output_type": "stream",
     "text": [
      "https://www.google.com/search?tbm=lcl&q=school \n",
      "https://www.google.com/search?tbm=lcl&q=school Sydney, Australia\n",
      "https://www.google.com/search?tbm=lcl&q=school Toronto, Canadahttps://www.google.com/search?tbm=lcl&q=school London, England\n",
      "\n",
      "https://www.google.com/search?tbm=lcl&q=school Bengaluru, Indiahttps://www.google.com/search?tbm=lcl&q=school Auckland, New Zealand\n",
      "\n",
      "https://www.google.com/search?tbm=lcl&q=school Florida, United States\n",
      "['Beacon of Light Private Elementary School', 'MSA Tutoring Center', 'The York School (Middle School Campus)', 'Central Toronto Academy', 'Oxford International / Eurocentres Toronto', 'Northern Secondary School', \"TFS - Canada's International School\", 'German International School Toronto', 'University of Toronto Schools (Bloor Site)', 'Toronto School of Theology', 'Braemar College', 'King Edward Junior and Senior Public School', \"St. Michael's College School\", 'Quest Language Studies', 'CES Toronto (Centre of English Studies Toronto)', 'CMU College of Makeup Art & Design', \"Royal St. George's College\", 'Ursula Franklin Academy', 'Toronto Film School', 'Kensington Community School', 'ELS Language Centers - Toronto', 'Canada School of Public Service']\n",
      "['Y.E.S. Your English School Ltd.', \"Russian Education Centre DAR - St.John's Wood Russian School\", 'The London School Of English', 'London School Of English', 'Nacel English School London, Rated 5/5 for its english courses', 'EC London English School and EC London 30+ (Adult English Centre)', 'The American School in London', 'Westminster School', 'International Community School', 'Wimbledon High School', \"Saint Cecilia's Church of England School\", 'International Community School', 'Regent London', 'Ursuline High School', 'Marymount International School London', 'LSE Summer School', 'Twyford Church of England High School', 'The Swedish School', 'Clubclass English Language Schools', 'Halcyon London International School', \"St Paul's Cathedral School\", 'Harrow School']\n",
      "[\"Saint Andrew's School\", 'Marjory Stoneman Douglas High School', 'North Broward Preparatory School', 'Admiral Farragut Academy', 'Florida State University', 'IMG Academy', 'Windermere Preparatory School', 'Carrollton School of the Sacred Heart - Barat Campus', 'Montverde Academy', 'Cypress Bay High School', 'American Heritage School', 'Florida Coastal School Of Law', 'Pine View School', 'Avalon Middle School', 'Cardinal Gibbons High School', 'Florida Prep', 'Lake Mary Preparatory School', 'The Sagemont Lower School', 'University Christian School', 'IMG Academy']['Australian International High School', 'Sydney Grammar School', 'Sydney Grammar St Ives Preparatory School', 'International Grammar School Sydney', 'German International School Sydney', 'The University of Sydney Susan Wakil School of Nursing and Midwifery', 'Aspect Western Sydney School', 'Lycée Condorcet Sydney, International French School', 'Sydney Distance Education High School', \"St Andrew's Cathedral School\", 'Covenant Christian School Sydney', 'Sydney Boys High School', 'South Sydney High School', \"St Mary's Catholic Primary School\", 'ELSIS Sydney College', 'Australia Performing Arts Grammar School: Sydney', 'Shore School', 'Abbotsleigh School, Sydney', 'Cranbrook School', 'Sydney Design School']\n",
      "\n",
      "['Orchids The International School', 'Escape Room Kormangala', 'India International School', 'BBA Colleges in Bangalore | Distance MBA College | Correspondence Colleges India | Business Schools', 'Greenwood High Pre Schools', 'IQRA International School', 'School of India', 'Christ School', 'Blooming Buds India', \"St Mira's High School\", 'LISAA School of Design', 'Baldwin Indian High School', 'Bethany High School', 'Fame India', 'United World Academy in association with Repton School, U.K.', 'My School Of Rock - Bangalore', 'WISDOM INTERNATIONAL SCHOOL', 'Ishanya India Foundation', 'Carmel Convent High School', 'St. Francis High School', 'Round Table School', \"All India Infant's Indian Nursery Primary & High School\"]\n",
      "['Spirit Of Adventure Trust', 'Titirangi Rudolf Steiner School', 'St Marys College', 'Zayed College for Girls', 'Rutherford College', 'Al-Madinah School', 'Northcote College', 'Sancta Maria College', 'Ormiston Senior College', 'Diocesan School for Girls', 'New Zealand School of Education', 'ACG Senior College', 'Avondale College', 'Carmel College', 'Albany Senior High School', 'Birkenhead College', 'Howick College', 'Auckland International College', \"St Dominic's Girl’s Catholic College\", 'Manurewa High School', 'Henderson High School']\n",
      "['Orchids The International School', 'RS High School', 'Little Elly Preschool Tavarekere Main Road', 'Bandepalay Goverment School', 'Gilgal Music School', 'Brundavana High School Brundavanagar', 'Kids Garden Nursery School', 'Government Higher Primary School', 'Franciscan Institute High School', 'Adarsha Education Society', 'Christ School', 'Indira Convent High School', 'Sri Satyanarayan Primary School', 'Kaveri Convent High School', 'Khalsa School', 'Our Lady of Fatima High School', 'Christ School ICSE GATE 2', 'Neena Higher Secondary School', 'Khalsa Public School', 'Furtados School of Music in Koramangala, Bengaluru', 'Government High Middle School']\n"
     ]
    }
   ],
   "source": [
    "urls = [\n",
    "    'https://www.google.com/search?tbm=lcl&q=accounting+school',\n",
    "    'https://www.google.com/search?tbm=lcl&q=accounting+school Sydney, Australia',\n",
    "    'https://www.google.com/search?tbm=lcl&q=accounting+school Toronto, Canada',\n",
    "    'https://www.google.com/search?tbm=lcl&q=accounting+school London, England',\n",
    "    'https://www.google.com/search?tbm=lcl&q=accounting+school Bengaluru, India',\n",
    "    'https://www.google.com/search?tbm=lcl&q=accounting+school Auckland, New Zealand',\n",
    "    'https://www.google.com/search?tbm=lcl&q=accounting+school Florida, United States',\n",
    "]\n",
    "for arg in args:\n",
    "    Thread(target=helpers.fetch_biz_for_city, args=arg).start()\n"
   ]
  },
  {
   "cell_type": "code",
   "execution_count": 147,
   "metadata": {},
   "outputs": [
    {
     "name": "stdout",
     "output_type": "stream",
     "text": [
      "{}\n"
     ]
    },
    {
     "data": {
      "text/plain": [
       "{}"
      ]
     },
     "execution_count": 147,
     "metadata": {},
     "output_type": "execute_result"
    }
   ],
   "source": [
    "# filename = \"google_mapping.json\"\n",
    "\n",
    "helpers.fetch_businesses_from_list(au_categories[6:13])"
   ]
  },
  {
   "cell_type": "code",
   "execution_count": 20,
   "metadata": {},
   "outputs": [
    {
     "data": {
      "text/plain": [
       "[{'academy': []},\n",
       " {'accountant': []},\n",
       " {'accounting+firm': []},\n",
       " {'accounting+school': []},\n",
       " {'accounting+software+company': []},\n",
       " {'acoustical+consultant': []},\n",
       " {'acrobatic+diving+pool': []}]"
      ]
     },
     "execution_count": 20,
     "metadata": {},
     "output_type": "execute_result"
    }
   ],
   "source": [
    "list(map(helpers.fetch_businesses, matches))"
   ]
  },
  {
   "cell_type": "code",
   "execution_count": 161,
   "metadata": {},
   "outputs": [
    {
     "data": {
      "text/plain": [
       "[1, 4, 9, 16]"
      ]
     },
     "execution_count": 161,
     "metadata": {},
     "output_type": "execute_result"
    }
   ],
   "source": [
    "list(map(lambda x: x *x, [1,2,3,4]))"
   ]
  },
  {
   "cell_type": "code",
   "execution_count": null,
   "metadata": {},
   "outputs": [],
   "source": [
    "# filename = \"partner_mapping.json\"\n",
    "\n",
    "# from threading import Thread\n",
    "# Thread( target = save_businesses_to_file, args = (partner_categories_1, filename)).start()\n",
    "# save_businesses_to_file(flattened_list, filename)"
   ]
  },
  {
   "cell_type": "code",
   "execution_count": null,
   "metadata": {},
   "outputs": [],
   "source": [
    "# get all parent matches (restaurant school manufacturer) c\n",
    "filename = \"google_mapping.json\"\n",
    "google_mapping = load_categories(filename)\n",
    "filename = \"partner_mapping.json\"\n",
    "partner_mapping = load_categories(filename)"
   ]
  },
  {
   "cell_type": "code",
   "execution_count": null,
   "metadata": {},
   "outputs": [],
   "source": [
    "temp = get_matching_categories(google_mapping, partner_mapping)"
   ]
  },
  {
   "cell_type": "code",
   "execution_count": null,
   "metadata": {},
   "outputs": [],
   "source": [
    "difference -= SortedSet(temp.google_categories.tolist())\n",
    "result = result.append(temp)"
   ]
  },
  {
   "cell_type": "code",
   "execution_count": null,
   "metadata": {},
   "outputs": [],
   "source": [
    "translationTable = str.maketrans(\"éàèùâêîôûçã\", \"eaeuaeiouca\")"
   ]
  },
  {
   "cell_type": "code",
   "execution_count": null,
   "metadata": {},
   "outputs": [],
   "source": [
    "temp = get_synonym_matches(difference, partner_categories_1)"
   ]
  },
  {
   "cell_type": "code",
   "execution_count": null,
   "metadata": {},
   "outputs": [],
   "source": [
    "temp = temp[temp.partner_categories.apply(len)>0]"
   ]
  },
  {
   "cell_type": "code",
   "execution_count": null,
   "metadata": {},
   "outputs": [],
   "source": [
    "difference -= SortedSet(temp.google_categories.tolist())\n",
    "result = result.append(temp)"
   ]
  },
  {
   "cell_type": "code",
   "execution_count": null,
   "metadata": {},
   "outputs": [],
   "source": [
    "# import matplotlib.pyplot as plt\n",
    "# import numpy as np\n",
    "# %matplotlib inline"
   ]
  },
  {
   "cell_type": "code",
   "execution_count": null,
   "metadata": {},
   "outputs": [],
   "source": [
    "# from collections import Counter\n",
    "# list1= ' '.join(difference).split()\n",
    "# counts = Counter(list1)\n",
    "# # counts.most_common(100)"
   ]
  },
  {
   "cell_type": "code",
   "execution_count": null,
   "metadata": {},
   "outputs": [],
   "source": [
    "# from nltk.corpus import wordnet as wn\n",
    "# import nltk\n",
    "# nltk.download('wordnet')"
   ]
  },
  {
   "cell_type": "code",
   "execution_count": null,
   "metadata": {},
   "outputs": [],
   "source": [
    "# wn.all_synsets('n')"
   ]
  },
  {
   "cell_type": "code",
   "execution_count": null,
   "metadata": {},
   "outputs": [],
   "source": [
    "# from nltk.corpus import wordnet as wn\n",
    "# nouns = {x.name().split('.', 1)[0] for x in wn.all_synsets('n')}"
   ]
  },
  {
   "cell_type": "code",
   "execution_count": null,
   "metadata": {},
   "outputs": [],
   "source": [
    "# labels, values = zip(*counts.most_common(20))\n",
    "# labels = list(labels)\n",
    "# values= list(values)"
   ]
  },
  {
   "cell_type": "code",
   "execution_count": null,
   "metadata": {},
   "outputs": [],
   "source": [
    "# for i, label in enumerate(labels):\n",
    "#     if re.match('[^a-zA-Z]+', label) is not None or label not in nouns:\n",
    "#         del labels[i]\n",
    "#         del values[i]"
   ]
  },
  {
   "cell_type": "code",
   "execution_count": null,
   "metadata": {},
   "outputs": [],
   "source": [
    "# indexes = np.arange(len(labels))\n",
    "# width = 1\n",
    "# plt.figure(figsize=(24,8))\n",
    "# plt.bar(indexes, values)\n",
    "# plt.xticks(indexes, labels)\n",
    "# plt.show()"
   ]
  },
  {
   "cell_type": "code",
   "execution_count": null,
   "metadata": {},
   "outputs": [],
   "source": [
    "# from threading import Thread \n",
    "fetcher = initialize_fetcher()\n",
    "restart_phantomjs()\n",
    "# Thread(target=fetch_categories_from_list, args=(invalid_list,'invalid_categories.json', )).start()\n",
    "fetch_categories_from_list(difference, 'parent_categories.json')"
   ]
  },
  {
   "cell_type": "code",
   "execution_count": null,
   "metadata": {},
   "outputs": [],
   "source": [
    "# results = load_results(\"result.csv\")"
   ]
  },
  {
   "cell_type": "code",
   "execution_count": null,
   "metadata": {},
   "outputs": [],
   "source": [
    "biz_categories = load_categories('parent_categories.json')"
   ]
  },
  {
   "cell_type": "code",
   "execution_count": null,
   "metadata": {},
   "outputs": [],
   "source": [
    "rem_categories = load_categories('remaining.json')"
   ]
  },
  {
   "cell_type": "code",
   "execution_count": null,
   "metadata": {},
   "outputs": [],
   "source": [
    "# inv_categories = load_categories('invalid_categories.json')"
   ]
  },
  {
   "cell_type": "code",
   "execution_count": null,
   "metadata": {},
   "outputs": [],
   "source": [
    "# biz_list = [category for category, category_list in biz_categories]"
   ]
  },
  {
   "cell_type": "code",
   "execution_count": null,
   "metadata": {},
   "outputs": [],
   "source": [
    "# inv_temp = pd.DataFrame(inv_categories)"
   ]
  },
  {
   "cell_type": "code",
   "execution_count": null,
   "metadata": {},
   "outputs": [],
   "source": [
    "# check = inv_temp[inv_temp[0] == 'andalusian restaurant'].values.tolist()[0]"
   ]
  },
  {
   "cell_type": "code",
   "execution_count": null,
   "metadata": {},
   "outputs": [],
   "source": [
    "# invalid_list = [category for category, category_list in inv_categories]"
   ]
  },
  {
   "cell_type": "code",
   "execution_count": null,
   "metadata": {},
   "outputs": [],
   "source": [
    "# invalid_cat = list(map(clean, parent_categories))"
   ]
  },
  {
   "cell_type": "code",
   "execution_count": null,
   "metadata": {},
   "outputs": [],
   "source": [
    "# invalid_list = [ element[0] for element in list(compress(biz_categories, invalid_cat)) ]"
   ]
  },
  {
   "cell_type": "code",
   "execution_count": null,
   "metadata": {},
   "outputs": [],
   "source": [
    "parent_category_mapping = pd.DataFrame(list(zip(biz_list, map(get_parent_category, biz_categories))), columns = columns)"
   ]
  },
  {
   "cell_type": "code",
   "execution_count": null,
   "metadata": {},
   "outputs": [],
   "source": [
    "# get values with occurunce above 3 in sorted order\n",
    "# loop through each and d chck if xists in result\n",
    "# if does make a tuple of it\n",
    "# use filter and map"
   ]
  },
  {
   "cell_type": "code",
   "execution_count": null,
   "metadata": {},
   "outputs": [],
   "source": [
    "# invalid_category_mapping = pd.DataFrame(list(zip(invalid_list, map(get_parent_category, inv_categories))), columns = columns)"
   ]
  },
  {
   "cell_type": "code",
   "execution_count": null,
   "metadata": {},
   "outputs": [],
   "source": [
    "# parent_category_mapping[parent_category_mapping.google_categories.isin(invalid_category_mapping.google_categories)]"
   ]
  },
  {
   "cell_type": "code",
   "execution_count": null,
   "metadata": {},
   "outputs": [],
   "source": [
    "parent_category_mapping = parent_category_mapping.append(invalid_category_mapping).drop_duplicates(subset='google_categories', keep='last').sort_values('google_categories')"
   ]
  },
  {
   "cell_type": "code",
   "execution_count": null,
   "metadata": {},
   "outputs": [],
   "source": [
    "temp = parent_category_mapping[parent_category_mapping.google_categories.isin(difference)].drop_duplicates(subset='google_categories', keep='last')"
   ]
  },
  {
   "cell_type": "code",
   "execution_count": null,
   "metadata": {},
   "outputs": [],
   "source": [
    "temp = temp.query('google_categories != partner_categories')"
   ]
  },
  {
   "cell_type": "code",
   "execution_count": null,
   "metadata": {},
   "outputs": [],
   "source": [
    "temp = temp[~temp.partner_categories.isnull()]"
   ]
  },
  {
   "cell_type": "code",
   "execution_count": null,
   "metadata": {},
   "outputs": [],
   "source": [
    "temp_result = result[result.google_categories.isin(temp.partner_categories)]"
   ]
  },
  {
   "cell_type": "code",
   "execution_count": null,
   "metadata": {},
   "outputs": [],
   "source": [
    "final_df = pd.merge(temp, temp_result,  how = 'right', left_on = 'partner_categories', right_on = 'google_categories')[['google_categories_x', 'partner_categories_y']]"
   ]
  },
  {
   "cell_type": "code",
   "execution_count": null,
   "metadata": {},
   "outputs": [],
   "source": [
    "final_df.columns = columns"
   ]
  },
  {
   "cell_type": "code",
   "execution_count": null,
   "metadata": {},
   "outputs": [],
   "source": [
    "result = result.append(final_df)"
   ]
  },
  {
   "cell_type": "code",
   "execution_count": null,
   "metadata": {},
   "outputs": [],
   "source": [
    "difference -= SortedSet(final_df.google_categories.tolist())"
   ]
  },
  {
   "cell_type": "code",
   "execution_count": null,
   "metadata": {},
   "outputs": [],
   "source": [
    "category_parent_pd = pd.DataFrame(rem_categories, columns = columns)"
   ]
  },
  {
   "cell_type": "code",
   "execution_count": null,
   "metadata": {},
   "outputs": [],
   "source": [
    "most_occuring = list(map(get_most_occuring_categories, category_parent_pd.values.tolist()))"
   ]
  },
  {
   "cell_type": "code",
   "execution_count": null,
   "metadata": {},
   "outputs": [],
   "source": [
    "def exists_in_result(categories):\n",
    "    if not categories:\n",
    "        return np.nan\n",
    "    for category in categories:\n",
    "        if category in result.google_categories.tolist():\n",
    "            return category\n",
    "    return np.nan"
   ]
  },
  {
   "cell_type": "code",
   "execution_count": null,
   "metadata": {},
   "outputs": [],
   "source": [
    "parent_categories = pd.DataFrame(list(zip( category_parent_pd.google_categories.tolist(), map(exists_in_result, most_occuring))), columns= ['google_categories','parent_categories'])"
   ]
  },
  {
   "cell_type": "code",
   "execution_count": null,
   "metadata": {},
   "outputs": [],
   "source": [
    "# list(zip( category_parent_pd.google_categories.tolist(), most_occuring))"
   ]
  },
  {
   "cell_type": "code",
   "execution_count": null,
   "metadata": {},
   "outputs": [],
   "source": [
    "parent_categories = parent_categories[parent_categories.parent_categories.notnull()]"
   ]
  },
  {
   "cell_type": "code",
   "execution_count": null,
   "metadata": {},
   "outputs": [],
   "source": [
    "# temp.merge(parent_categories)\n",
    "temp = pd.merge(category_parent_pd, parent_categories,  how = 'inner', on = 'google_categories')"
   ]
  },
  {
   "cell_type": "code",
   "execution_count": null,
   "metadata": {},
   "outputs": [],
   "source": [
    "temp_result = result[result.google_categories.isin(temp.parent_categories)]"
   ]
  },
  {
   "cell_type": "code",
   "execution_count": null,
   "metadata": {},
   "outputs": [],
   "source": [
    "final_df = pd.merge(temp, temp_result,  how = 'right', left_on = 'parent_categories', right_on = 'google_categories')[['google_categories_x', 'partner_categories_y']]"
   ]
  },
  {
   "cell_type": "code",
   "execution_count": null,
   "metadata": {},
   "outputs": [],
   "source": [
    "final_df.columns = columns"
   ]
  },
  {
   "cell_type": "code",
   "execution_count": null,
   "metadata": {},
   "outputs": [],
   "source": [
    "result = result.append(final_df)"
   ]
  },
  {
   "cell_type": "code",
   "execution_count": null,
   "metadata": {},
   "outputs": [],
   "source": [
    "difference -= SortedSet(final_df.google_categories.tolist())"
   ]
  },
  {
   "cell_type": "code",
   "execution_count": null,
   "metadata": {},
   "outputs": [],
   "source": [
    "# for i, category in enumerate(no_second):\n",
    "#     try:\n",
    "#         biz_names = google_mapping[category]\n",
    "#     except:\n",
    "#         continue\n",
    "        \n",
    "#     print(\"{} {}\".format(i, category))\n",
    "        \n",
    "#     cat_results = []\n",
    "    \n",
    "#     if len(biz_names) > 10:\n",
    "#         sample = random.sample(biz_names, 10)\n",
    "#     else:\n",
    "#         sample = biz_names\n",
    "    \n",
    "#     for biz_name in sample:\n",
    "#         biz_results = get_facebook_category(biz_name)\n",
    "#         print(biz_name, biz_results)\n",
    "#         cat_results += biz_results\n",
    "        \n",
    "#     category_mapping.append({category: cat_results})"
   ]
  },
  {
   "cell_type": "code",
   "execution_count": null,
   "metadata": {},
   "outputs": [],
   "source": [
    "# with open('facebook_mapping.json', 'w') as file:\n",
    "#     file.write(json.dumps(category_mapping))"
   ]
  },
  {
   "cell_type": "code",
   "execution_count": null,
   "metadata": {},
   "outputs": [],
   "source": [
    "facebook_mapping = load_categories('facebook_mapping.json')"
   ]
  },
  {
   "cell_type": "code",
   "execution_count": null,
   "metadata": {},
   "outputs": [],
   "source": [
    "fb_categories = get_facebook_df(facebook_mapping)"
   ]
  },
  {
   "cell_type": "code",
   "execution_count": null,
   "metadata": {},
   "outputs": [],
   "source": [
    "fb_categories = fb_categories[fb_categories.google_categories.isin(difference)].drop_duplicates(subset='google_categories', keep='last')"
   ]
  },
  {
   "cell_type": "code",
   "execution_count": null,
   "metadata": {},
   "outputs": [],
   "source": [
    "temp = get_close_matches(fb_categories.facebook_categories.drop_duplicates().tolist(), result.google_categories.tolist(), 0.9)"
   ]
  },
  {
   "cell_type": "code",
   "execution_count": null,
   "metadata": {},
   "outputs": [],
   "source": [
    "temp = temp.apply(lambda x: [x[0], x[1][0]], axis=1, result_type='expand')"
   ]
  },
  {
   "cell_type": "code",
   "execution_count": null,
   "metadata": {},
   "outputs": [],
   "source": [
    "temp.columns = ['facebook_categories', 'result_categories']"
   ]
  },
  {
   "cell_type": "code",
   "execution_count": null,
   "metadata": {},
   "outputs": [],
   "source": [
    "last = pd.merge(fb_categories, temp, how='inner', on='facebook_categories').drop_duplicates(subset='google_categories', keep='last')"
   ]
  },
  {
   "cell_type": "code",
   "execution_count": null,
   "metadata": {},
   "outputs": [],
   "source": [
    "temp_result = result[result.google_categories.isin(last.result_categories)]"
   ]
  },
  {
   "cell_type": "code",
   "execution_count": null,
   "metadata": {},
   "outputs": [],
   "source": [
    "final_df = pd.merge(last, temp_result,  how = 'right', left_on = 'result_categories', right_on = 'google_categories')[['google_categories_x', 'partner_categories']]"
   ]
  },
  {
   "cell_type": "code",
   "execution_count": null,
   "metadata": {},
   "outputs": [],
   "source": [
    "final_df.columns = columns"
   ]
  },
  {
   "cell_type": "code",
   "execution_count": null,
   "metadata": {},
   "outputs": [],
   "source": [
    "final_df = final_df[~final_df.google_categories.isin(result.google_categories)]"
   ]
  },
  {
   "cell_type": "code",
   "execution_count": null,
   "metadata": {},
   "outputs": [],
   "source": [
    "result = result.append(final_df)"
   ]
  },
  {
   "cell_type": "code",
   "execution_count": null,
   "metadata": {},
   "outputs": [],
   "source": [
    "difference -= SortedSet(final_df.google_categories.tolist())"
   ]
  },
  {
   "cell_type": "code",
   "execution_count": null,
   "metadata": {},
   "outputs": [],
   "source": [
    "len(difference)"
   ]
  },
  {
   "cell_type": "code",
   "execution_count": null,
   "metadata": {},
   "outputs": [],
   "source": [
    "fetch_business_categories('tiffin service provider')"
   ]
  },
  {
   "cell_type": "code",
   "execution_count": null,
   "metadata": {},
   "outputs": [],
   "source": [
    "fetch_businesses('metalware producer')"
   ]
  },
  {
   "cell_type": "code",
   "execution_count": null,
   "metadata": {},
   "outputs": [],
   "source": [
    "with open('difference.json', 'w') as file:\n",
    "    file.write(json.dumps(list(difference)))"
   ]
  },
  {
   "cell_type": "code",
   "execution_count": null,
   "metadata": {},
   "outputs": [],
   "source": [
    "filename = \"last.json\"\n",
    "save_businesses_to_file(difference, filename)\n",
    "# Thread( target = save_businesses_to_file, args = (difference, filename)).start()"
   ]
  },
  {
   "cell_type": "code",
   "execution_count": null,
   "metadata": {},
   "outputs": [],
   "source": [
    "!curl --upload-file no_second.json https://transfer.sh/no_second.json"
   ]
  },
  {
   "cell_type": "code",
   "execution_count": null,
   "metadata": {},
   "outputs": [],
   "source": [
    "reload(helpers)\n",
    "from helpers import *"
   ]
  },
  {
   "cell_type": "code",
   "execution_count": null,
   "metadata": {},
   "outputs": [],
   "source": [
    "result = result.drop_duplicates(subset='google_categories', keep='last')"
   ]
  },
  {
   "cell_type": "code",
   "execution_count": null,
   "metadata": {},
   "outputs": [],
   "source": [
    "result.shape"
   ]
  },
  {
   "cell_type": "code",
   "execution_count": null,
   "metadata": {},
   "outputs": [],
   "source": [
    "result.to_csv('pandas_result.csv')"
   ]
  },
  {
   "cell_type": "code",
   "execution_count": null,
   "metadata": {},
   "outputs": [],
   "source": [
    "invalid_list = result[result.partner_categories.str.match(\"[\\W]+\", na =False)].google_categories.tolist()"
   ]
  },
  {
   "cell_type": "code",
   "execution_count": null,
   "metadata": {},
   "outputs": [],
   "source": [
    "result = pd.read_csv('pandas_result.csv')[['google_categories','partner_categories']]"
   ]
  },
  {
   "cell_type": "code",
   "execution_count": null,
   "metadata": {},
   "outputs": [],
   "source": []
  }
 ],
 "metadata": {
  "kernelspec": {
   "display_name": "Python 3",
   "language": "python",
   "name": "python3"
  },
  "language_info": {
   "codemirror_mode": {
    "name": "ipython",
    "version": 3
   },
   "file_extension": ".py",
   "mimetype": "text/x-python",
   "name": "python",
   "nbconvert_exporter": "python",
   "pygments_lexer": "ipython3",
   "version": "3.6.5"
  }
 },
 "nbformat": 4,
 "nbformat_minor": 2
}
